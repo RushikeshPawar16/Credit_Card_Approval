{
 "cells": [
  {
   "cell_type": "markdown",
   "metadata": {},
   "source": [
    "## All Techniques Of Hyper Parameter Optimization\n",
    "    1.GridSearchCV\n",
    "    2.RandomizedSearchCV\n",
    "    3.Bayesian Optimization -Automate Hyperparameter Tuning (Hyperopt)\n",
    "    4.Sequential Model Based Optimization(Tuning a scikit-learn estimator with skopt)\n",
    "    5.Optuna- Automate Hyperparameter Tuning\n",
    "    6.Genetic Algorithms (TPOT Classifier)"
   ]
  },
  {
   "cell_type": "code",
   "execution_count": 1,
   "metadata": {},
   "outputs": [],
   "source": [
    "import warnings\n",
    "warnings.filterwarnings('ignore')"
   ]
  },
  {
   "cell_type": "code",
   "execution_count": 2,
   "metadata": {},
   "outputs": [
    {
     "data": {
      "text/html": [
       "<div>\n",
       "<style scoped>\n",
       "    .dataframe tbody tr th:only-of-type {\n",
       "        vertical-align: middle;\n",
       "    }\n",
       "\n",
       "    .dataframe tbody tr th {\n",
       "        vertical-align: top;\n",
       "    }\n",
       "\n",
       "    .dataframe thead th {\n",
       "        text-align: right;\n",
       "    }\n",
       "</style>\n",
       "<table border=\"1\" class=\"dataframe\">\n",
       "  <thead>\n",
       "    <tr style=\"text-align: right;\">\n",
       "      <th></th>\n",
       "      <th>PriorDefault_t</th>\n",
       "      <th>YearsEmployed</th>\n",
       "      <th>CreditScore</th>\n",
       "      <th>Income</th>\n",
       "      <th>Approved</th>\n",
       "    </tr>\n",
       "  </thead>\n",
       "  <tbody>\n",
       "    <tr>\n",
       "      <th>0</th>\n",
       "      <td>1</td>\n",
       "      <td>3.04</td>\n",
       "      <td>6</td>\n",
       "      <td>560.000000</td>\n",
       "      <td>1</td>\n",
       "    </tr>\n",
       "    <tr>\n",
       "      <th>1</th>\n",
       "      <td>1</td>\n",
       "      <td>1.50</td>\n",
       "      <td>0</td>\n",
       "      <td>824.000000</td>\n",
       "      <td>1</td>\n",
       "    </tr>\n",
       "    <tr>\n",
       "      <th>2</th>\n",
       "      <td>1</td>\n",
       "      <td>3.75</td>\n",
       "      <td>5</td>\n",
       "      <td>3.000000</td>\n",
       "      <td>1</td>\n",
       "    </tr>\n",
       "    <tr>\n",
       "      <th>3</th>\n",
       "      <td>1</td>\n",
       "      <td>1.71</td>\n",
       "      <td>0</td>\n",
       "      <td>322.159652</td>\n",
       "      <td>1</td>\n",
       "    </tr>\n",
       "    <tr>\n",
       "      <th>4</th>\n",
       "      <td>1</td>\n",
       "      <td>2.50</td>\n",
       "      <td>0</td>\n",
       "      <td>322.159652</td>\n",
       "      <td>1</td>\n",
       "    </tr>\n",
       "  </tbody>\n",
       "</table>\n",
       "</div>"
      ],
      "text/plain": [
       "   PriorDefault_t  YearsEmployed  CreditScore      Income  Approved\n",
       "0               1           3.04            6  560.000000         1\n",
       "1               1           1.50            0  824.000000         1\n",
       "2               1           3.75            5    3.000000         1\n",
       "3               1           1.71            0  322.159652         1\n",
       "4               1           2.50            0  322.159652         1"
      ]
     },
     "execution_count": 2,
     "metadata": {},
     "output_type": "execute_result"
    }
   ],
   "source": [
    "import pandas as pd\n",
    "df=pd.read_csv('Feature_Selection.csv')\n",
    "df.head()"
   ]
  },
  {
   "cell_type": "code",
   "execution_count": 3,
   "metadata": {},
   "outputs": [],
   "source": [
    "#### Independent And Dependent features\n",
    "X=df.drop('Approved',axis=1)\n",
    "y=df['Approved']"
   ]
  },
  {
   "cell_type": "code",
   "execution_count": 4,
   "metadata": {},
   "outputs": [],
   "source": [
    "#### Train Test Split\n",
    "from sklearn.model_selection import train_test_split\n",
    "X_train,X_test,y_train,y_test=train_test_split(X,y,test_size=0.20,random_state=0)"
   ]
  },
  {
   "cell_type": "code",
   "execution_count": 5,
   "metadata": {},
   "outputs": [],
   "source": [
    "from sklearn.ensemble import RandomForestClassifier\n",
    "rf_classifier=RandomForestClassifier(n_estimators=10).fit(X_train,y_train)\n",
    "prediction=rf_classifier.predict(X_test)"
   ]
  },
  {
   "cell_type": "code",
   "execution_count": 6,
   "metadata": {},
   "outputs": [
    {
     "name": "stdout",
     "output_type": "stream",
     "text": [
      "confusion matrix : [[60 15]\n",
      " [11 52]]\n",
      "Accuracy Score : 0.8115942028985508\n",
      "              precision    recall  f1-score   support\n",
      "\n",
      "           0       0.85      0.80      0.82        75\n",
      "           1       0.78      0.83      0.80        63\n",
      "\n",
      "    accuracy                           0.81       138\n",
      "   macro avg       0.81      0.81      0.81       138\n",
      "weighted avg       0.81      0.81      0.81       138\n",
      "\n"
     ]
    }
   ],
   "source": [
    "from sklearn.metrics import confusion_matrix,classification_report,accuracy_score\n",
    "print(f'confusion matrix : {confusion_matrix(y_test,prediction)}')\n",
    "print(f'Accuracy Score : {accuracy_score(y_test,prediction)}')\n",
    "print(classification_report(y_test,prediction))"
   ]
  },
  {
   "cell_type": "markdown",
   "metadata": {},
   "source": [
    "# Manual Hyperparameter Tuning"
   ]
  },
  {
   "cell_type": "code",
   "execution_count": 7,
   "metadata": {},
   "outputs": [
    {
     "name": "stdout",
     "output_type": "stream",
     "text": [
      "[[68  7]\n",
      " [11 52]]\n",
      "0.8695652173913043\n",
      "              precision    recall  f1-score   support\n",
      "\n",
      "           0       0.86      0.91      0.88        75\n",
      "           1       0.88      0.83      0.85        63\n",
      "\n",
      "    accuracy                           0.87       138\n",
      "   macro avg       0.87      0.87      0.87       138\n",
      "weighted avg       0.87      0.87      0.87       138\n",
      "\n"
     ]
    }
   ],
   "source": [
    "### Manual Hyperparameter Tuning\n",
    "model=RandomForestClassifier(n_estimators=300,criterion='entropy',\n",
    "                             max_features='sqrt',min_samples_leaf=10,random_state=100).fit(X_train,y_train)\n",
    "predictions=model.predict(X_test)\n",
    "print(confusion_matrix(y_test,predictions))\n",
    "print(accuracy_score(y_test,predictions))\n",
    "print(classification_report(y_test,predictions))"
   ]
  },
  {
   "cell_type": "markdown",
   "metadata": {},
   "source": [
    "# Randomized Search Cv"
   ]
  },
  {
   "cell_type": "code",
   "execution_count": 8,
   "metadata": {},
   "outputs": [
    {
     "name": "stdout",
     "output_type": "stream",
     "text": [
      "{'n_estimators': [200, 400, 600, 800, 1000, 1200, 1400, 1600, 1800, 2000], 'max_features': ['auto', 'sqrt', 'log2'], 'max_depth': [10, 120, 230, 340, 450, 560, 670, 780, 890, 1000], 'min_samples_split': [2, 5, 10, 14], 'min_samples_leaf': [1, 2, 4, 6, 8], 'criterion': ['entropy', 'gini']}\n"
     ]
    }
   ],
   "source": [
    "import numpy as np\n",
    "from sklearn.model_selection import RandomizedSearchCV\n",
    "# Number of trees in random forest\n",
    "n_estimators = [int(x) for x in np.linspace(start = 200, stop = 2000, num = 10)]\n",
    "# Number of features to consider at every split\n",
    "max_features = ['auto', 'sqrt','log2']\n",
    "# Maximum number of levels in tree\n",
    "max_depth = [int(x) for x in np.linspace(10, 1000,10)]\n",
    "# Minimum number of samples required to split a node\n",
    "min_samples_split = [2, 5, 10,14]\n",
    "# Minimum number of samples required at each leaf node\n",
    "min_samples_leaf = [1, 2, 4,6,8]\n",
    "# Create the random grid\n",
    "random_grid = {'n_estimators': n_estimators,\n",
    "               'max_features': max_features,\n",
    "               'max_depth': max_depth,\n",
    "               'min_samples_split': min_samples_split,\n",
    "               'min_samples_leaf': min_samples_leaf,\n",
    "              'criterion':['entropy','gini']}\n",
    "print(random_grid)"
   ]
  },
  {
   "cell_type": "code",
   "execution_count": 9,
   "metadata": {},
   "outputs": [
    {
     "name": "stdout",
     "output_type": "stream",
     "text": [
      "Fitting 3 folds for each of 100 candidates, totalling 300 fits\n"
     ]
    },
    {
     "name": "stderr",
     "output_type": "stream",
     "text": [
      "[Parallel(n_jobs=-1)]: Using backend LokyBackend with 4 concurrent workers.\n",
      "[Parallel(n_jobs=-1)]: Done  33 tasks      | elapsed:   41.3s\n",
      "[Parallel(n_jobs=-1)]: Done 154 tasks      | elapsed:  3.4min\n",
      "[Parallel(n_jobs=-1)]: Done 300 out of 300 | elapsed:  7.7min finished\n"
     ]
    },
    {
     "data": {
      "text/plain": [
       "RandomizedSearchCV(cv=3, estimator=RandomForestClassifier(), n_iter=100,\n",
       "                   n_jobs=-1,\n",
       "                   param_distributions={'criterion': ['entropy', 'gini'],\n",
       "                                        'max_depth': [10, 120, 230, 340, 450,\n",
       "                                                      560, 670, 780, 890,\n",
       "                                                      1000],\n",
       "                                        'max_features': ['auto', 'sqrt',\n",
       "                                                         'log2'],\n",
       "                                        'min_samples_leaf': [1, 2, 4, 6, 8],\n",
       "                                        'min_samples_split': [2, 5, 10, 14],\n",
       "                                        'n_estimators': [200, 400, 600, 800,\n",
       "                                                         1000, 1200, 1400, 1600,\n",
       "                                                         1800, 2000]},\n",
       "                   random_state=100, verbose=2)"
      ]
     },
     "execution_count": 9,
     "metadata": {},
     "output_type": "execute_result"
    }
   ],
   "source": [
    "rf=RandomForestClassifier()\n",
    "rf_randomcv=RandomizedSearchCV(estimator=rf,param_distributions=random_grid,n_iter=100,cv=3,verbose=2,\n",
    "                               random_state=100,n_jobs=-1)\n",
    "### fit the randomized model\n",
    "rf_randomcv.fit(X_train,y_train)"
   ]
  },
  {
   "cell_type": "code",
   "execution_count": 10,
   "metadata": {},
   "outputs": [
    {
     "data": {
      "text/plain": [
       "{'n_estimators': 200,\n",
       " 'min_samples_split': 10,\n",
       " 'min_samples_leaf': 1,\n",
       " 'max_features': 'sqrt',\n",
       " 'max_depth': 560,\n",
       " 'criterion': 'gini'}"
      ]
     },
     "execution_count": 10,
     "metadata": {},
     "output_type": "execute_result"
    }
   ],
   "source": [
    "rf_randomcv.best_params_"
   ]
  },
  {
   "cell_type": "code",
   "execution_count": 11,
   "metadata": {},
   "outputs": [
    {
     "data": {
      "text/plain": [
       "RandomizedSearchCV(cv=3, estimator=RandomForestClassifier(), n_iter=100,\n",
       "                   n_jobs=-1,\n",
       "                   param_distributions={'criterion': ['entropy', 'gini'],\n",
       "                                        'max_depth': [10, 120, 230, 340, 450,\n",
       "                                                      560, 670, 780, 890,\n",
       "                                                      1000],\n",
       "                                        'max_features': ['auto', 'sqrt',\n",
       "                                                         'log2'],\n",
       "                                        'min_samples_leaf': [1, 2, 4, 6, 8],\n",
       "                                        'min_samples_split': [2, 5, 10, 14],\n",
       "                                        'n_estimators': [200, 400, 600, 800,\n",
       "                                                         1000, 1200, 1400, 1600,\n",
       "                                                         1800, 2000]},\n",
       "                   random_state=100, verbose=2)"
      ]
     },
     "execution_count": 11,
     "metadata": {},
     "output_type": "execute_result"
    }
   ],
   "source": [
    "rf_randomcv"
   ]
  },
  {
   "cell_type": "code",
   "execution_count": 12,
   "metadata": {},
   "outputs": [],
   "source": [
    "best_random_grid=rf_randomcv.best_estimator_"
   ]
  },
  {
   "cell_type": "code",
   "execution_count": 13,
   "metadata": {},
   "outputs": [
    {
     "name": "stdout",
     "output_type": "stream",
     "text": [
      "[[64 11]\n",
      " [10 53]]\n",
      "Accuracy Score 0.8478260869565217\n",
      "Classification report:               precision    recall  f1-score   support\n",
      "\n",
      "           0       0.86      0.85      0.86        75\n",
      "           1       0.83      0.84      0.83        63\n",
      "\n",
      "    accuracy                           0.85       138\n",
      "   macro avg       0.85      0.85      0.85       138\n",
      "weighted avg       0.85      0.85      0.85       138\n",
      "\n"
     ]
    }
   ],
   "source": [
    "from sklearn.metrics import accuracy_score\n",
    "y_pred=best_random_grid.predict(X_test)\n",
    "print(confusion_matrix(y_test,y_pred))\n",
    "print(\"Accuracy Score {}\".format(accuracy_score(y_test,y_pred)))\n",
    "print(\"Classification report: {}\".format(classification_report(y_test,y_pred)))"
   ]
  },
  {
   "cell_type": "markdown",
   "metadata": {},
   "source": [
    "# GridSearch CV"
   ]
  },
  {
   "cell_type": "code",
   "execution_count": 14,
   "metadata": {},
   "outputs": [
    {
     "name": "stdout",
     "output_type": "stream",
     "text": [
      "{'criterion': ['gini'], 'max_depth': [560], 'max_features': ['sqrt'], 'min_samples_leaf': [1, 3, 5], 'min_samples_split': [8, 9, 10, 11, 12], 'n_estimators': [0, 100, 200, 300, 400]}\n"
     ]
    }
   ],
   "source": [
    "from sklearn.model_selection import GridSearchCV\n",
    "\n",
    "param_grid = {\n",
    "    'criterion': [rf_randomcv.best_params_['criterion']],\n",
    "    'max_depth': [rf_randomcv.best_params_['max_depth']],\n",
    "    'max_features': [rf_randomcv.best_params_['max_features']],\n",
    "    'min_samples_leaf': [rf_randomcv.best_params_['min_samples_leaf'], \n",
    "                         rf_randomcv.best_params_['min_samples_leaf']+2, \n",
    "                         rf_randomcv.best_params_['min_samples_leaf'] + 4],\n",
    "    'min_samples_split': [rf_randomcv.best_params_['min_samples_split'] - 2,\n",
    "                          rf_randomcv.best_params_['min_samples_split'] - 1,\n",
    "                          rf_randomcv.best_params_['min_samples_split'], \n",
    "                          rf_randomcv.best_params_['min_samples_split'] +1,\n",
    "                          rf_randomcv.best_params_['min_samples_split'] + 2],\n",
    "    'n_estimators': [rf_randomcv.best_params_['n_estimators'] - 200, rf_randomcv.best_params_['n_estimators'] - 100, \n",
    "                     rf_randomcv.best_params_['n_estimators'], \n",
    "                     rf_randomcv.best_params_['n_estimators'] + 100, rf_randomcv.best_params_['n_estimators'] + 200]\n",
    "}\n",
    "\n",
    "print(param_grid)"
   ]
  },
  {
   "cell_type": "code",
   "execution_count": 15,
   "metadata": {},
   "outputs": [
    {
     "name": "stdout",
     "output_type": "stream",
     "text": [
      "Fitting 10 folds for each of 75 candidates, totalling 750 fits\n"
     ]
    },
    {
     "name": "stderr",
     "output_type": "stream",
     "text": [
      "[Parallel(n_jobs=-1)]: Using backend LokyBackend with 4 concurrent workers.\n",
      "[Parallel(n_jobs=-1)]: Done  33 tasks      | elapsed:    7.5s\n",
      "[Parallel(n_jobs=-1)]: Done 154 tasks      | elapsed:   49.3s\n",
      "[Parallel(n_jobs=-1)]: Done 357 tasks      | elapsed:  2.0min\n",
      "[Parallel(n_jobs=-1)]: Done 640 tasks      | elapsed:  3.5min\n",
      "[Parallel(n_jobs=-1)]: Done 750 out of 750 | elapsed:  4.1min finished\n"
     ]
    },
    {
     "data": {
      "text/plain": [
       "GridSearchCV(cv=10, estimator=RandomForestClassifier(), n_jobs=-1,\n",
       "             param_grid={'criterion': ['gini'], 'max_depth': [560],\n",
       "                         'max_features': ['sqrt'],\n",
       "                         'min_samples_leaf': [1, 3, 5],\n",
       "                         'min_samples_split': [8, 9, 10, 11, 12],\n",
       "                         'n_estimators': [0, 100, 200, 300, 400]},\n",
       "             verbose=2)"
      ]
     },
     "execution_count": 15,
     "metadata": {},
     "output_type": "execute_result"
    }
   ],
   "source": [
    "#### Fit the grid_search to the data\n",
    "rf=RandomForestClassifier()\n",
    "grid_search=GridSearchCV(estimator=rf,param_grid=param_grid,cv=10,n_jobs=-1,verbose=2)\n",
    "grid_search.fit(X_train,y_train)"
   ]
  },
  {
   "cell_type": "code",
   "execution_count": 16,
   "metadata": {},
   "outputs": [
    {
     "data": {
      "text/plain": [
       "RandomForestClassifier(max_depth=560, max_features='sqrt', min_samples_split=10)"
      ]
     },
     "execution_count": 16,
     "metadata": {},
     "output_type": "execute_result"
    }
   ],
   "source": [
    "grid_search.best_estimator_"
   ]
  },
  {
   "cell_type": "code",
   "execution_count": 17,
   "metadata": {},
   "outputs": [],
   "source": [
    "best_grid=grid_search.best_estimator_"
   ]
  },
  {
   "cell_type": "code",
   "execution_count": 18,
   "metadata": {},
   "outputs": [
    {
     "data": {
      "text/plain": [
       "RandomForestClassifier(max_depth=560, max_features='sqrt', min_samples_split=10)"
      ]
     },
     "execution_count": 18,
     "metadata": {},
     "output_type": "execute_result"
    }
   ],
   "source": [
    "best_grid"
   ]
  },
  {
   "cell_type": "code",
   "execution_count": 19,
   "metadata": {},
   "outputs": [
    {
     "name": "stdout",
     "output_type": "stream",
     "text": [
      "[[64 11]\n",
      " [10 53]]\n",
      "Accuracy Score 0.8478260869565217\n",
      "Classification report:               precision    recall  f1-score   support\n",
      "\n",
      "           0       0.86      0.85      0.86        75\n",
      "           1       0.83      0.84      0.83        63\n",
      "\n",
      "    accuracy                           0.85       138\n",
      "   macro avg       0.85      0.85      0.85       138\n",
      "weighted avg       0.85      0.85      0.85       138\n",
      "\n"
     ]
    }
   ],
   "source": [
    "y_pred=best_grid.predict(X_test)\n",
    "print(confusion_matrix(y_test,y_pred))\n",
    "print(\"Accuracy Score {}\".format(accuracy_score(y_test,y_pred)))\n",
    "print(\"Classification report: {}\".format(classification_report(y_test,y_pred)))"
   ]
  },
  {
   "cell_type": "markdown",
   "metadata": {},
   "source": [
    "### Automated Hyperparameter Tuning\n",
    "Automated Hyperparameter Tuning can be done by using techniques such as\n",
    "\n",
    "- Bayesian Optimization\n",
    "- Gradient Descent\n",
    "- Evolutionary Algorithms\n",
    "    \n",
    "#### Bayesian Optimization\n",
    "Bayesian optimization uses probability to find the minimum of a function. The final aim is to find the input value to a function which can gives us the lowest possible output value.It usually performs better than random,grid and manual search providing better performance in the testing phase and reduced optimization time. In Hyperopt, Bayesian Optimization can be implemented giving 3 three main parameters to the function fmin.\n",
    "\n",
    "- Objective Function = defines the loss function to minimize.\n",
    "- Domain Space = defines the range of input values to test (in Bayesian Optimization this space creates a probability distribution for each of the used Hyperparameters).\n",
    "- Optimization Algorithm = defines the search algorithm to use to select the best input values to use in each new iteration."
   ]
  },
  {
   "cell_type": "code",
   "execution_count": 20,
   "metadata": {},
   "outputs": [
    {
     "name": "stdout",
     "output_type": "stream",
     "text": [
      "Requirement already satisfied: hyperopt in c:\\users\\sreeh\\anaconda3\\lib\\site-packages (0.2.4)\n",
      "Requirement already satisfied: cloudpickle in c:\\users\\sreeh\\anaconda3\\lib\\site-packages (from hyperopt) (1.3.0)\n",
      "Requirement already satisfied: tqdm in c:\\users\\sreeh\\appdata\\roaming\\python\\python37\\site-packages (from hyperopt) (4.45.0)\n",
      "Requirement already satisfied: scipy in c:\\users\\sreeh\\appdata\\roaming\\python\\python37\\site-packages (from hyperopt) (1.4.1)\n",
      "Requirement already satisfied: numpy in c:\\users\\sreeh\\anaconda3\\lib\\site-packages (from hyperopt) (1.19.1)\n",
      "Requirement already satisfied: networkx>=2.2 in c:\\users\\sreeh\\anaconda3\\lib\\site-packages (from hyperopt) (2.4)\n",
      "Requirement already satisfied: future in c:\\users\\sreeh\\anaconda3\\lib\\site-packages (from hyperopt) (0.18.2)\n",
      "Requirement already satisfied: six in c:\\users\\sreeh\\appdata\\roaming\\python\\python37\\site-packages (from hyperopt) (1.12.0)\n",
      "Requirement already satisfied: decorator>=4.3.0 in c:\\users\\sreeh\\anaconda3\\lib\\site-packages (from networkx>=2.2->hyperopt) (4.4.1)\n"
     ]
    }
   ],
   "source": [
    "!pip install hyperopt"
   ]
  },
  {
   "cell_type": "code",
   "execution_count": 21,
   "metadata": {},
   "outputs": [],
   "source": [
    "from hyperopt import hp,fmin,tpe,STATUS_OK,Trials"
   ]
  },
  {
   "cell_type": "code",
   "execution_count": 22,
   "metadata": {},
   "outputs": [],
   "source": [
    "space = {'criterion': hp.choice('criterion', ['entropy', 'gini']),\n",
    "        'max_depth': hp.choice('max_depth',[10, 120, 230, 340, 450, 560, 670, 780, 890, 1000]),\n",
    "        'max_features': hp.choice('max_features', ['auto', 'sqrt','log2', None]),\n",
    "        'min_samples_leaf': hp.uniform('min_samples_leaf', 0, 0.5),\n",
    "        'min_samples_split' : hp.uniform ('min_samples_split', 0, 1),\n",
    "        'n_estimators' : hp.choice('n_estimators', [200, 400, 600, 800, 1000, 1200, 1400, 1600, 1800, 2000])\n",
    "    }"
   ]
  },
  {
   "cell_type": "code",
   "execution_count": 23,
   "metadata": {},
   "outputs": [],
   "source": [
    "\n",
    "def objective(space):\n",
    "    model = RandomForestClassifier(criterion = space['criterion'], max_depth = space['max_depth'],\n",
    "                                 max_features = space['max_features'],\n",
    "                                 min_samples_leaf = space['min_samples_leaf'],\n",
    "                                 min_samples_split = space['min_samples_split'],\n",
    "                                 n_estimators = space['n_estimators'], \n",
    "                                 )\n",
    "    \n",
    "    accuracy = cross_val_score(model, X_train, y_train, cv = 5).mean()\n",
    "\n",
    "    # We aim to maximize accuracy, therefore we return it as a negative value\n",
    "    return {'loss': -accuracy, 'status': STATUS_OK }"
   ]
  },
  {
   "cell_type": "code",
   "execution_count": 24,
   "metadata": {},
   "outputs": [
    {
     "name": "stdout",
     "output_type": "stream",
     "text": [
      "100%|███████████████████████████████████████████████| 80/80 [16:02<00:00, 12.03s/trial, best loss: -0.8584602784602783]\n"
     ]
    },
    {
     "data": {
      "text/plain": [
       "{'criterion': 0,\n",
       " 'max_depth': 4,\n",
       " 'max_features': 1,\n",
       " 'min_samples_leaf': 0.007105237760531388,\n",
       " 'min_samples_split': 0.6304517767273082,\n",
       " 'n_estimators': 6}"
      ]
     },
     "execution_count": 24,
     "metadata": {},
     "output_type": "execute_result"
    }
   ],
   "source": [
    "from sklearn.model_selection import cross_val_score\n",
    "trials = Trials()\n",
    "best = fmin(fn= objective,\n",
    "            space= space,\n",
    "            algo= tpe.suggest,\n",
    "            max_evals = 80,\n",
    "            trials= trials)\n",
    "best"
   ]
  },
  {
   "cell_type": "code",
   "execution_count": 25,
   "metadata": {},
   "outputs": [
    {
     "name": "stdout",
     "output_type": "stream",
     "text": [
      "entropy\n",
      "sqrt\n",
      "1400\n"
     ]
    }
   ],
   "source": [
    "crit = {0: 'entropy', 1: 'gini'}\n",
    "feat = {0: 'auto', 1: 'sqrt', 2: 'log2', 3: None}\n",
    "est = {0: 200, 1: 400, 2: 600, 3: 800, 4: 1000, 5:1200, 6:1400,7:1600,8:1800,9:2000}\n",
    "\n",
    "\n",
    "\n",
    "print(crit[best['criterion']])\n",
    "print(feat[best['max_features']])\n",
    "print(est[best['n_estimators']])"
   ]
  },
  {
   "cell_type": "code",
   "execution_count": 26,
   "metadata": {},
   "outputs": [
    {
     "data": {
      "text/plain": [
       "0.007105237760531388"
      ]
     },
     "execution_count": 26,
     "metadata": {},
     "output_type": "execute_result"
    }
   ],
   "source": [
    "best['min_samples_leaf']"
   ]
  },
  {
   "cell_type": "code",
   "execution_count": 27,
   "metadata": {},
   "outputs": [
    {
     "name": "stdout",
     "output_type": "stream",
     "text": [
      "[[70  5]\n",
      " [16 47]]\n",
      "0.8478260869565217\n",
      "              precision    recall  f1-score   support\n",
      "\n",
      "           0       0.81      0.93      0.87        75\n",
      "           1       0.90      0.75      0.82        63\n",
      "\n",
      "    accuracy                           0.85       138\n",
      "   macro avg       0.86      0.84      0.84       138\n",
      "weighted avg       0.85      0.85      0.85       138\n",
      "\n"
     ]
    }
   ],
   "source": [
    "\n",
    "trainedforest = RandomForestClassifier(criterion = crit[best['criterion']], max_depth = best['max_depth'], \n",
    "                                       max_features = feat[best['max_features']], \n",
    "                                       min_samples_leaf = best['min_samples_leaf'], \n",
    "                                       min_samples_split = best['min_samples_split'], \n",
    "                                       n_estimators = est[best['n_estimators']]).fit(X_train,y_train)\n",
    "predictionforest = trainedforest.predict(X_test)\n",
    "print(confusion_matrix(y_test,predictionforest))\n",
    "print(accuracy_score(y_test,predictionforest))\n",
    "print(classification_report(y_test,predictionforest))\n",
    "acc5 = accuracy_score(y_test,predictionforest)"
   ]
  },
  {
   "cell_type": "markdown",
   "metadata": {},
   "source": [
    "## Genetic Algorithms\n",
    "Genetic Algorithms tries to apply natural selection mechanisms to Machine Learning contexts.\n",
    "\n",
    "Let's immagine we create a population of N Machine Learning models with some predifined Hyperparameters. We can then calculate the accuracy of each model and decide to keep just half of the models (the ones that performs best). We can now generate some offsprings having similar Hyperparameters to the ones of the best models so that go get again a population of N models. At this point we can again caltulate the accuracy of each model and repeate the cycle for a defined number of generations. In this way, just the best models will survive at the end of the process."
   ]
  },
  {
   "cell_type": "code",
   "execution_count": 28,
   "metadata": {},
   "outputs": [
    {
     "name": "stdout",
     "output_type": "stream",
     "text": [
      "{'n_estimators': [200, 400, 600, 800, 1000, 1200, 1400, 1600, 1800, 2000], 'max_features': ['auto', 'sqrt', 'log2'], 'max_depth': [10, 120, 230, 340, 450, 560, 670, 780, 890, 1000], 'min_samples_split': [2, 5, 10, 14], 'min_samples_leaf': [1, 2, 4, 6, 8], 'criterion': ['entropy', 'gini']}\n"
     ]
    }
   ],
   "source": [
    "import numpy as np\n",
    "from sklearn.model_selection import RandomizedSearchCV\n",
    "# Number of trees in random forest\n",
    "n_estimators = [int(x) for x in np.linspace(start = 200, stop = 2000, num = 10)]\n",
    "# Number of features to consider at every split\n",
    "max_features = ['auto', 'sqrt','log2']\n",
    "# Maximum number of levels in tree\n",
    "max_depth = [int(x) for x in np.linspace(10, 1000,10)]\n",
    "# Minimum number of samples required to split a node\n",
    "min_samples_split = [2, 5, 10,14]\n",
    "# Minimum number of samples required at each leaf node\n",
    "min_samples_leaf = [1, 2, 4,6,8]\n",
    "# Create the random grid\n",
    "param = {'n_estimators': n_estimators,\n",
    "               'max_features': max_features,\n",
    "               'max_depth': max_depth,\n",
    "               'min_samples_split': min_samples_split,\n",
    "               'min_samples_leaf': min_samples_leaf,\n",
    "              'criterion':['entropy','gini']}\n",
    "print(param)\n"
   ]
  },
  {
   "cell_type": "code",
   "execution_count": 29,
   "metadata": {},
   "outputs": [
    {
     "name": "stdout",
     "output_type": "stream",
     "text": [
      "Requirement already satisfied: tpot in c:\\users\\sreeh\\anaconda3\\lib\\site-packages (0.11.5)\n",
      "Requirement already satisfied: scikit-learn>=0.22.0 in c:\\users\\sreeh\\anaconda3\\lib\\site-packages (from tpot) (0.23.1)\n",
      "Requirement already satisfied: pandas>=0.24.2 in c:\\users\\sreeh\\anaconda3\\lib\\site-packages (from tpot) (1.0.1)\n",
      "Requirement already satisfied: numpy>=1.16.3 in c:\\users\\sreeh\\anaconda3\\lib\\site-packages (from tpot) (1.19.1)\n",
      "Requirement already satisfied: stopit>=1.1.1 in c:\\users\\sreeh\\anaconda3\\lib\\site-packages (from tpot) (1.1.2)\n",
      "Requirement already satisfied: deap>=1.2 in c:\\users\\sreeh\\anaconda3\\lib\\site-packages (from tpot) (1.3.1)\n",
      "Requirement already satisfied: joblib>=0.13.2 in c:\\users\\sreeh\\appdata\\roaming\\python\\python37\\site-packages (from tpot) (0.14.1)\n",
      "Requirement already satisfied: tqdm>=4.36.1 in c:\\users\\sreeh\\appdata\\roaming\\python\\python37\\site-packages (from tpot) (4.45.0)\n",
      "Requirement already satisfied: scipy>=1.3.1 in c:\\users\\sreeh\\appdata\\roaming\\python\\python37\\site-packages (from tpot) (1.4.1)\n",
      "Requirement already satisfied: update-checker>=0.16 in c:\\users\\sreeh\\anaconda3\\lib\\site-packages (from tpot) (0.17)\n",
      "Requirement already satisfied: threadpoolctl>=2.0.0 in c:\\users\\sreeh\\anaconda3\\lib\\site-packages (from scikit-learn>=0.22.0->tpot) (2.1.0)\n",
      "Requirement already satisfied: pytz>=2017.2 in c:\\users\\sreeh\\anaconda3\\lib\\site-packages (from pandas>=0.24.2->tpot) (2019.3)\n",
      "Requirement already satisfied: python-dateutil>=2.6.1 in c:\\users\\sreeh\\anaconda3\\lib\\site-packages (from pandas>=0.24.2->tpot) (2.8.1)\n",
      "Requirement already satisfied: requests>=2.3.0 in c:\\users\\sreeh\\appdata\\roaming\\python\\python37\\site-packages (from update-checker>=0.16->tpot) (2.23.0)\n",
      "Requirement already satisfied: six>=1.5 in c:\\users\\sreeh\\appdata\\roaming\\python\\python37\\site-packages (from python-dateutil>=2.6.1->pandas>=0.24.2->tpot) (1.12.0)\n",
      "Requirement already satisfied: certifi>=2017.4.17 in c:\\users\\sreeh\\anaconda3\\lib\\site-packages (from requests>=2.3.0->update-checker>=0.16->tpot) (2020.6.20)\n",
      "Requirement already satisfied: idna<3,>=2.5 in c:\\users\\sreeh\\anaconda3\\lib\\site-packages (from requests>=2.3.0->update-checker>=0.16->tpot) (2.8)\n",
      "Requirement already satisfied: urllib3!=1.25.0,!=1.25.1,<1.26,>=1.21.1 in c:\\users\\sreeh\\anaconda3\\lib\\site-packages (from requests>=2.3.0->update-checker>=0.16->tpot) (1.25.8)\n",
      "Requirement already satisfied: chardet<4,>=3.0.2 in c:\\users\\sreeh\\anaconda3\\lib\\site-packages (from requests>=2.3.0->update-checker>=0.16->tpot) (3.0.4)\n"
     ]
    }
   ],
   "source": [
    "!pip install tpot"
   ]
  },
  {
   "cell_type": "code",
   "execution_count": 30,
   "metadata": {},
   "outputs": [
    {
     "data": {
      "application/vnd.jupyter.widget-view+json": {
       "model_id": "",
       "version_major": 2,
       "version_minor": 0
      },
      "text/plain": [
       "HBox(children=(FloatProgress(value=0.0, description='Optimization Progress', max=84.0, style=ProgressStyle(des…"
      ]
     },
     "metadata": {},
     "output_type": "display_data"
    },
    {
     "name": "stdout",
     "output_type": "stream",
     "text": [
      "\n",
      "Generation 1 - Current best internal CV score: 0.8421003914101344\n",
      "Generation 2 - Current best internal CV score: 0.8439252089283825\n",
      "Generation 3 - Current best internal CV score: 0.8439252089283825\n",
      "Generation 4 - Current best internal CV score: 0.8439252089283825\n",
      "Generation 5 - Current best internal CV score: 0.8457235798159315\n",
      "Best pipeline: RandomForestClassifier(RandomForestClassifier(input_matrix, criterion=gini, max_depth=780, max_features=log2, min_samples_leaf=8, min_samples_split=10, n_estimators=1800), criterion=gini, max_depth=230, max_features=auto, min_samples_leaf=8, min_samples_split=10, n_estimators=800)\n"
     ]
    },
    {
     "data": {
      "text/plain": [
       "TPOTClassifier(config_dict={'sklearn.ensemble.RandomForestClassifier': {'criterion': ['entropy',\n",
       "                                                                                      'gini'],\n",
       "                                                                        'max_depth': [10,\n",
       "                                                                                      120,\n",
       "                                                                                      230,\n",
       "                                                                                      340,\n",
       "                                                                                      450,\n",
       "                                                                                      560,\n",
       "                                                                                      670,\n",
       "                                                                                      780,\n",
       "                                                                                      890,\n",
       "                                                                                      1000],\n",
       "                                                                        'max_features': ['auto',\n",
       "                                                                                         'sqrt',\n",
       "                                                                                         'log2'],\n",
       "                                                                        'min_samples_leaf': [1,\n",
       "                                                                                             2,\n",
       "                                                                                             4,\n",
       "                                                                                             6,\n",
       "                                                                                             8],\n",
       "                                                                        'min_samples_split': [2,\n",
       "                                                                                              5,\n",
       "                                                                                              10,\n",
       "                                                                                              14],\n",
       "                                                                        'n_estimators': [200,\n",
       "                                                                                         400,\n",
       "                                                                                         600,\n",
       "                                                                                         800,\n",
       "                                                                                         1000,\n",
       "                                                                                         1200,\n",
       "                                                                                         1400,\n",
       "                                                                                         1600,\n",
       "                                                                                         1800,\n",
       "                                                                                         2000]}},\n",
       "               cv=4, early_stop=12, generations=5,\n",
       "               log_file=<ipykernel.iostream.OutStream object at 0x00000181EE4B7E88>,\n",
       "               offspring_size=12, population_size=24, scoring='accuracy',\n",
       "               verbosity=2)"
      ]
     },
     "execution_count": 30,
     "metadata": {},
     "output_type": "execute_result"
    }
   ],
   "source": [
    "from tpot import TPOTClassifier\n",
    "\n",
    "\n",
    "tpot_classifier = TPOTClassifier(generations= 5, population_size= 24, offspring_size= 12,\n",
    "                                 verbosity= 2, early_stop= 12,\n",
    "                                 config_dict={'sklearn.ensemble.RandomForestClassifier': param}, \n",
    "                                 cv = 4, scoring = 'accuracy')\n",
    "tpot_classifier.fit(X_train,y_train)"
   ]
  },
  {
   "cell_type": "code",
   "execution_count": 31,
   "metadata": {},
   "outputs": [
    {
     "name": "stdout",
     "output_type": "stream",
     "text": [
      "0.8768115942028986\n"
     ]
    }
   ],
   "source": [
    "accuracy = tpot_classifier.score(X_test, y_test)\n",
    "print(accuracy)"
   ]
  },
  {
   "cell_type": "markdown",
   "metadata": {},
   "source": [
    "## Optimize hyperparameters of the model using Optuna\n",
    "The hyperparameters of the above algorithm are n_estimators and max_depth for which we can try different values to see if the model accuracy can be improved. The objective function is modified to accept a trial object. This trial has several methods for sampling hyperparameters. We create a study to run the hyperparameter optimization and finally read the best hyperparameters."
   ]
  },
  {
   "cell_type": "code",
   "execution_count": 32,
   "metadata": {},
   "outputs": [
    {
     "name": "stdout",
     "output_type": "stream",
     "text": [
      "Requirement already satisfied: optuna in c:\\users\\sreeh\\anaconda3\\lib\\site-packages (1.5.0)\n",
      "Requirement already satisfied: alembic in c:\\users\\sreeh\\anaconda3\\lib\\site-packages (from optuna) (1.4.2)\n",
      "Requirement already satisfied: colorlog in c:\\users\\sreeh\\anaconda3\\lib\\site-packages (from optuna) (4.2.1)\n",
      "Requirement already satisfied: cliff in c:\\users\\sreeh\\anaconda3\\lib\\site-packages (from optuna) (3.3.0)\n",
      "Requirement already satisfied: cmaes>=0.5.0 in c:\\users\\sreeh\\anaconda3\\lib\\site-packages (from optuna) (0.6.0)\n",
      "Requirement already satisfied: numpy in c:\\users\\sreeh\\anaconda3\\lib\\site-packages (from optuna) (1.19.1)\n",
      "Requirement already satisfied: scipy!=1.4.0 in c:\\users\\sreeh\\appdata\\roaming\\python\\python37\\site-packages (from optuna) (1.4.1)\n",
      "Requirement already satisfied: joblib in c:\\users\\sreeh\\appdata\\roaming\\python\\python37\\site-packages (from optuna) (0.14.1)\n",
      "Requirement already satisfied: tqdm in c:\\users\\sreeh\\appdata\\roaming\\python\\python37\\site-packages (from optuna) (4.45.0)\n",
      "Requirement already satisfied: sqlalchemy>=1.1.0 in c:\\users\\sreeh\\anaconda3\\lib\\site-packages (from optuna) (1.3.13)\n",
      "Requirement already satisfied: python-dateutil in c:\\users\\sreeh\\anaconda3\\lib\\site-packages (from alembic->optuna) (2.8.1)\n",
      "Requirement already satisfied: python-editor>=0.3 in c:\\users\\sreeh\\anaconda3\\lib\\site-packages (from alembic->optuna) (1.0.4)\n",
      "Requirement already satisfied: Mako in c:\\users\\sreeh\\anaconda3\\lib\\site-packages (from alembic->optuna) (1.1.3)\n",
      "Requirement already satisfied: colorama; sys_platform == \"win32\" in c:\\users\\sreeh\\appdata\\roaming\\python\\python37\\site-packages (from colorlog->optuna) (0.4.1)\n",
      "Requirement already satisfied: pbr!=2.1.0,>=2.0.0 in c:\\users\\sreeh\\anaconda3\\lib\\site-packages (from cliff->optuna) (5.4.5)\n",
      "Requirement already satisfied: PrettyTable<0.8,>=0.7.2 in c:\\users\\sreeh\\anaconda3\\lib\\site-packages (from cliff->optuna) (0.7.2)\n",
      "Requirement already satisfied: six>=1.10.0 in c:\\users\\sreeh\\appdata\\roaming\\python\\python37\\site-packages (from cliff->optuna) (1.12.0)\n",
      "Requirement already satisfied: PyYAML>=3.12 in c:\\users\\sreeh\\anaconda3\\lib\\site-packages (from cliff->optuna) (5.3)\n",
      "Requirement already satisfied: pyparsing>=2.1.0 in c:\\users\\sreeh\\anaconda3\\lib\\site-packages (from cliff->optuna) (2.4.6)\n",
      "Requirement already satisfied: cmd2!=0.8.3,>=0.8.0 in c:\\users\\sreeh\\anaconda3\\lib\\site-packages (from cliff->optuna) (1.2.1)\n",
      "Requirement already satisfied: stevedore>=1.20.0 in c:\\users\\sreeh\\anaconda3\\lib\\site-packages (from cliff->optuna) (3.2.0)\n",
      "Requirement already satisfied: MarkupSafe>=0.9.2 in c:\\users\\sreeh\\anaconda3\\lib\\site-packages (from Mako->alembic->optuna) (1.1.1)\n",
      "Requirement already satisfied: pyperclip>=1.6 in c:\\users\\sreeh\\anaconda3\\lib\\site-packages (from cmd2!=0.8.3,>=0.8.0->cliff->optuna) (1.8.0)\n",
      "Requirement already satisfied: importlib-metadata>=1.6.0; python_version < \"3.8\" in c:\\users\\sreeh\\anaconda3\\lib\\site-packages (from cmd2!=0.8.3,>=0.8.0->cliff->optuna) (1.7.0)\n",
      "Requirement already satisfied: setuptools>=34.4 in c:\\users\\sreeh\\anaconda3\\lib\\site-packages (from cmd2!=0.8.3,>=0.8.0->cliff->optuna) (45.2.0.post20200210)\n",
      "Requirement already satisfied: pyreadline; sys_platform == \"win32\" in c:\\users\\sreeh\\anaconda3\\lib\\site-packages (from cmd2!=0.8.3,>=0.8.0->cliff->optuna) (2.1)\n",
      "Requirement already satisfied: wcwidth>=0.1.7 in c:\\users\\sreeh\\anaconda3\\lib\\site-packages (from cmd2!=0.8.3,>=0.8.0->cliff->optuna) (0.1.8)\n",
      "Requirement already satisfied: attrs>=16.3.0 in c:\\users\\sreeh\\anaconda3\\lib\\site-packages (from cmd2!=0.8.3,>=0.8.0->cliff->optuna) (19.3.0)\n",
      "Requirement already satisfied: zipp>=0.5 in c:\\users\\sreeh\\anaconda3\\lib\\site-packages (from importlib-metadata>=1.6.0; python_version < \"3.8\"->cmd2!=0.8.3,>=0.8.0->cliff->optuna) (2.2.0)\n"
     ]
    }
   ],
   "source": [
    "!pip install optuna"
   ]
  },
  {
   "cell_type": "code",
   "execution_count": 33,
   "metadata": {},
   "outputs": [],
   "source": [
    "import optuna\n",
    "import sklearn.svm\n",
    "def objective(trial):\n",
    "\n",
    "    classifier = trial.suggest_categorical('classifier', ['RandomForest', 'SVC'])\n",
    "    \n",
    "    if classifier == 'RandomForest':\n",
    "        n_estimators = trial.suggest_int('n_estimators', 200, 2000,10)\n",
    "        max_depth = int(trial.suggest_float('max_depth', 10, 100, log=True))\n",
    "\n",
    "        clf = sklearn.ensemble.RandomForestClassifier(\n",
    "            n_estimators=n_estimators, max_depth=max_depth)\n",
    "    else:\n",
    "        c = trial.suggest_float('svc_c', 1e-10, 1e10, log=True)\n",
    "        \n",
    "        clf = sklearn.svm.SVC(C=c, gamma='auto')\n",
    "\n",
    "    return sklearn.model_selection.cross_val_score(\n",
    "        clf,X_train,y_train, n_jobs=-1, cv=3).mean()\n",
    "\n"
   ]
  },
  {
   "cell_type": "code",
   "execution_count": 34,
   "metadata": {},
   "outputs": [
    {
     "name": "stderr",
     "output_type": "stream",
     "text": [
      "[I 2020-08-06 01:25:24,243] Finished trial#0 with value: 0.8239882790845016 with parameters: {'classifier': 'RandomForest', 'n_estimators': 1420, 'max_depth': 97.42866513199431}. Best is trial#0 with value: 0.8239882790845016.\n",
      "[I 2020-08-06 01:25:25,354] Finished trial#1 with value: 0.6878415300546448 with parameters: {'classifier': 'SVC', 'svc_c': 1518.2931242552634}. Best is trial#0 with value: 0.8239882790845016.\n",
      "[I 2020-08-06 01:25:29,672] Finished trial#2 with value: 0.8239783796626278 with parameters: {'classifier': 'RandomForest', 'n_estimators': 1720, 'max_depth': 11.06727846545538}. Best is trial#0 with value: 0.8239882790845016.\n",
      "[I 2020-08-06 01:25:29,848] Finished trial#3 with value: 0.6860200364298725 with parameters: {'classifier': 'SVC', 'svc_c': 643.0507856895659}. Best is trial#0 with value: 0.8239882790845016.\n",
      "[I 2020-08-06 01:25:32,778] Finished trial#4 with value: 0.8239783796626278 with parameters: {'classifier': 'RandomForest', 'n_estimators': 940, 'max_depth': 77.20105177607813}. Best is trial#0 with value: 0.8239882790845016.\n",
      "[I 2020-08-06 01:25:37,013] Finished trial#5 with value: 0.8221667854597291 with parameters: {'classifier': 'RandomForest', 'n_estimators': 1630, 'max_depth': 41.829039655447325}. Best is trial#0 with value: 0.8239882790845016.\n",
      "[I 2020-08-06 01:26:29,581] Finished trial#6 with value: 0.5879068662390118 with parameters: {'classifier': 'SVC', 'svc_c': 221614867.74709606}. Best is trial#0 with value: 0.8239882790845016.\n",
      "[I 2020-08-06 01:26:29,673] Finished trial#7 with value: 0.7041557773026055 with parameters: {'classifier': 'SVC', 'svc_c': 3.1781135423235964}. Best is trial#0 with value: 0.8239882790845016.\n",
      "[I 2020-08-06 01:26:29,760] Finished trial#8 with value: 0.5589807555238774 with parameters: {'classifier': 'SVC', 'svc_c': 7.06273392556494e-07}. Best is trial#0 with value: 0.8239882790845016.\n",
      "[I 2020-08-06 01:26:34,285] Finished trial#9 with value: 0.6715074839629366 with parameters: {'classifier': 'SVC', 'svc_c': 304691.0529619552}. Best is trial#0 with value: 0.8239882790845016.\n",
      "[I 2020-08-06 01:26:34,917] Finished trial#10 with value: 0.8203551912568307 with parameters: {'classifier': 'RandomForest', 'n_estimators': 210, 'max_depth': 95.4069921601681}. Best is trial#0 with value: 0.8239882790845016.\n",
      "[I 2020-08-06 01:26:39,491] Finished trial#11 with value: 0.823968480240754 with parameters: {'classifier': 'RandomForest', 'n_estimators': 1770, 'max_depth': 10.548329672546968}. Best is trial#0 with value: 0.8239882790845016.\n",
      "[I 2020-08-06 01:26:42,706] Finished trial#12 with value: 0.8276114674902986 with parameters: {'classifier': 'RandomForest', 'n_estimators': 1300, 'max_depth': 13.246273436648117}. Best is trial#12 with value: 0.8276114674902986.\n",
      "[I 2020-08-06 01:26:45,640] Finished trial#13 with value: 0.8239882790845016 with parameters: {'classifier': 'RandomForest', 'n_estimators': 1150, 'max_depth': 20.748978114486206}. Best is trial#12 with value: 0.8276114674902986.\n",
      "[I 2020-08-06 01:26:48,684] Finished trial#14 with value: 0.8257998732874 with parameters: {'classifier': 'RandomForest', 'n_estimators': 1150, 'max_depth': 22.35052444576603}. Best is trial#12 with value: 0.8276114674902986.\n",
      "[I 2020-08-06 01:26:50,858] Finished trial#15 with value: 0.8257899738655263 with parameters: {'classifier': 'RandomForest', 'n_estimators': 800, 'max_depth': 18.52182890140353}. Best is trial#12 with value: 0.8276114674902986.\n",
      "[I 2020-08-06 01:26:52,327] Finished trial#16 with value: 0.8239783796626278 with parameters: {'classifier': 'RandomForest', 'n_estimators': 520, 'max_depth': 18.11718256001059}. Best is trial#12 with value: 0.8276114674902986.\n",
      "[I 2020-08-06 01:26:55,419] Finished trial#17 with value: 0.8257899738655263 with parameters: {'classifier': 'RandomForest', 'n_estimators': 1260, 'max_depth': 34.68978046345322}. Best is trial#12 with value: 0.8276114674902986.\n",
      "[I 2020-08-06 01:26:58,946] Finished trial#18 with value: 0.8257899738655263 with parameters: {'classifier': 'RandomForest', 'n_estimators': 1430, 'max_depth': 13.440847504100073}. Best is trial#12 with value: 0.8276114674902986.\n",
      "[I 2020-08-06 01:27:01,189] Finished trial#19 with value: 0.8239783796626278 with parameters: {'classifier': 'RandomForest', 'n_estimators': 790, 'max_depth': 24.560575116526323}. Best is trial#12 with value: 0.8276114674902986.\n",
      "[I 2020-08-06 01:27:06,067] Finished trial#20 with value: 0.8239783796626278 with parameters: {'classifier': 'RandomForest', 'n_estimators': 1940, 'max_depth': 14.286494543985386}. Best is trial#12 with value: 0.8276114674902986.\n",
      "[I 2020-08-06 01:27:09,733] Finished trial#21 with value: 0.8221568860378555 with parameters: {'classifier': 'RandomForest', 'n_estimators': 1400, 'max_depth': 13.89259870414332}. Best is trial#12 with value: 0.8276114674902986.\n",
      "[I 2020-08-06 01:27:13,537] Finished trial#22 with value: 0.8221568860378555 with parameters: {'classifier': 'RandomForest', 'n_estimators': 1450, 'max_depth': 13.385529812027698}. Best is trial#12 with value: 0.8276114674902986.\n",
      "[I 2020-08-06 01:27:16,203] Finished trial#23 with value: 0.8239882790845016 with parameters: {'classifier': 'RandomForest', 'n_estimators': 1050, 'max_depth': 25.02271140530118}. Best is trial#12 with value: 0.8276114674902986.\n",
      "[I 2020-08-06 01:27:19,491] Finished trial#24 with value: 0.8276015680684248 with parameters: {'classifier': 'RandomForest', 'n_estimators': 1240, 'max_depth': 10.681117134833778}. Best is trial#12 with value: 0.8276114674902986.\n",
      "[I 2020-08-06 01:27:22,567] Finished trial#25 with value: 0.8257899738655263 with parameters: {'classifier': 'RandomForest', 'n_estimators': 1220, 'max_depth': 10.349278856635632}. Best is trial#12 with value: 0.8276114674902986.\n",
      "[I 2020-08-06 01:27:24,895] Finished trial#26 with value: 0.8221667854597291 with parameters: {'classifier': 'RandomForest', 'n_estimators': 880, 'max_depth': 47.269905546793545}. Best is trial#12 with value: 0.8276114674902986.\n",
      "[I 2020-08-06 01:27:26,673] Finished trial#27 with value: 0.8239783796626278 with parameters: {'classifier': 'RandomForest', 'n_estimators': 590, 'max_depth': 27.140775970291127}. Best is trial#12 with value: 0.8276114674902986.\n",
      "[I 2020-08-06 01:27:30,262] Finished trial#28 with value: 0.8239882790845016 with parameters: {'classifier': 'RandomForest', 'n_estimators': 1270, 'max_depth': 16.54354621050893}. Best is trial#12 with value: 0.8276114674902986.\n",
      "[I 2020-08-06 01:27:33,215] Finished trial#29 with value: 0.8239783796626278 with parameters: {'classifier': 'RandomForest', 'n_estimators': 1040, 'max_depth': 11.176318116949675}. Best is trial#12 with value: 0.8276114674902986.\n",
      "[I 2020-08-06 01:27:38,075] Finished trial#30 with value: 0.8239783796626278 with parameters: {'classifier': 'RandomForest', 'n_estimators': 1600, 'max_depth': 21.523410728631255}. Best is trial#12 with value: 0.8276114674902986.\n",
      "[I 2020-08-06 01:27:40,837] Finished trial#31 with value: 0.8257899738655263 with parameters: {'classifier': 'RandomForest', 'n_estimators': 760, 'max_depth': 17.22525738763821}. Best is trial#12 with value: 0.8276114674902986.\n",
      "[I 2020-08-06 01:27:42,902] Finished trial#32 with value: 0.8239783796626278 with parameters: {'classifier': 'RandomForest', 'n_estimators': 620, 'max_depth': 19.758189596619548}. Best is trial#12 with value: 0.8276114674902986.\n",
      "[I 2020-08-06 01:27:46,501] Finished trial#33 with value: 0.8276114674902986 with parameters: {'classifier': 'RandomForest', 'n_estimators': 1120, 'max_depth': 15.820079723611698}. Best is trial#12 with value: 0.8276114674902986.\n",
      "[I 2020-08-06 01:27:49,407] Finished trial#34 with value: 0.8257899738655263 with parameters: {'classifier': 'RandomForest', 'n_estimators': 1110, 'max_depth': 12.692960455902458}. Best is trial#12 with value: 0.8276114674902986.\n",
      "[I 2020-08-06 01:27:53,294] Finished trial#35 with value: 0.8239783796626278 with parameters: {'classifier': 'RandomForest', 'n_estimators': 1330, 'max_depth': 16.139071557786007}. Best is trial#12 with value: 0.8276114674902986.\n",
      "[I 2020-08-06 01:27:55,858] Finished trial#36 with value: 0.8239783796626278 with parameters: {'classifier': 'RandomForest', 'n_estimators': 980, 'max_depth': 28.330313427034355}. Best is trial#12 with value: 0.8276114674902986.\n",
      "[I 2020-08-06 01:27:59,943] Finished trial#37 with value: 0.8257998732874 with parameters: {'classifier': 'RandomForest', 'n_estimators': 1540, 'max_depth': 15.205482123046295}. Best is trial#12 with value: 0.8276114674902986.\n",
      "[I 2020-08-06 01:28:00,062] Finished trial#38 with value: 0.5589807555238774 with parameters: {'classifier': 'SVC', 'svc_c': 2.643080214069641e-10}. Best is trial#12 with value: 0.8276114674902986.\n",
      "[I 2020-08-06 01:28:03,407] Finished trial#39 with value: 0.823968480240754 with parameters: {'classifier': 'RandomForest', 'n_estimators': 1150, 'max_depth': 11.702634743469186}. Best is trial#12 with value: 0.8276114674902986.\n",
      "[I 2020-08-06 01:28:08,147] Finished trial#40 with value: 0.8221568860378555 with parameters: {'classifier': 'RandomForest', 'n_estimators': 1610, 'max_depth': 10.13917863778709}. Best is trial#12 with value: 0.8276114674902986.\n",
      "[I 2020-08-06 01:28:12,602] Finished trial#41 with value: 0.8257998732874 with parameters: {'classifier': 'RandomForest', 'n_estimators': 1520, 'max_depth': 15.270098540083675}. Best is trial#12 with value: 0.8276114674902986.\n",
      "[I 2020-08-06 01:28:16,291] Finished trial#42 with value: 0.8239783796626278 with parameters: {'classifier': 'RandomForest', 'n_estimators': 1520, 'max_depth': 15.296410961947712}. Best is trial#12 with value: 0.8276114674902986.\n",
      "[I 2020-08-06 01:28:20,921] Finished trial#43 with value: 0.8239783796626278 with parameters: {'classifier': 'RandomForest', 'n_estimators': 1770, 'max_depth': 12.481022134912422}. Best is trial#12 with value: 0.8276114674902986.\n",
      "[I 2020-08-06 01:28:21,025] Finished trial#44 with value: 0.5589807555238774 with parameters: {'classifier': 'SVC', 'svc_c': 9.918137388428173e-05}. Best is trial#12 with value: 0.8276114674902986.\n",
      "[I 2020-08-06 01:28:24,612] Finished trial#45 with value: 0.8239783796626278 with parameters: {'classifier': 'RandomForest', 'n_estimators': 1340, 'max_depth': 15.056342382383786}. Best is trial#12 with value: 0.8276114674902986.\n",
      "[I 2020-08-06 01:28:29,191] Finished trial#46 with value: 0.8257899738655263 with parameters: {'classifier': 'RandomForest', 'n_estimators': 1910, 'max_depth': 11.302628787378893}. Best is trial#12 with value: 0.8276114674902986.\n",
      "[I 2020-08-06 01:28:33,636] Finished trial#47 with value: 0.8257998732874 with parameters: {'classifier': 'RandomForest', 'n_estimators': 1710, 'max_depth': 12.087981766161459}. Best is trial#12 with value: 0.8276114674902986.\n",
      "[I 2020-08-06 01:32:01,516] Finished trial#48 with value: 0.5734042131939495 with parameters: {'classifier': 'SVC', 'svc_c': 2418822396.927141}. Best is trial#12 with value: 0.8276114674902986.\n",
      "[I 2020-08-06 01:32:05,126] Finished trial#49 with value: 0.8221568860378555 with parameters: {'classifier': 'RandomForest', 'n_estimators': 1510, 'max_depth': 10.138568167753347}. Best is trial#12 with value: 0.8276114674902986.\n",
      "[I 2020-08-06 01:32:09,624] Finished trial#50 with value: 0.8239783796626278 with parameters: {'classifier': 'RandomForest', 'n_estimators': 1780, 'max_depth': 12.119544131157747}. Best is trial#12 with value: 0.8276114674902986.\n",
      "[I 2020-08-06 01:32:13,913] Finished trial#51 with value: 0.8239783796626278 with parameters: {'classifier': 'RandomForest', 'n_estimators': 1630, 'max_depth': 15.284851041856664}. Best is trial#12 with value: 0.8276114674902986.\n",
      "[I 2020-08-06 01:32:18,345] Finished trial#52 with value: 0.8257998732874 with parameters: {'classifier': 'RandomForest', 'n_estimators': 1690, 'max_depth': 18.23808092586882}. Best is trial#12 with value: 0.8276114674902986.\n",
      "[I 2020-08-06 01:32:21,691] Finished trial#53 with value: 0.8221667854597291 with parameters: {'classifier': 'RandomForest', 'n_estimators': 1140, 'max_depth': 22.86965365048064}. Best is trial#12 with value: 0.8276114674902986.\n",
      "[I 2020-08-06 01:32:24,766] Finished trial#54 with value: 0.8239882790845016 with parameters: {'classifier': 'RandomForest', 'n_estimators': 1230, 'max_depth': 19.479738451946755}. Best is trial#12 with value: 0.8276114674902986.\n",
      "[I 2020-08-06 01:32:29,508] Finished trial#55 with value: 0.8239783796626278 with parameters: {'classifier': 'RandomForest', 'n_estimators': 1690, 'max_depth': 17.710460832777006}. Best is trial#12 with value: 0.8276114674902986.\n",
      "[I 2020-08-06 01:32:34,451] Finished trial#56 with value: 0.8257998732874 with parameters: {'classifier': 'RandomForest', 'n_estimators': 1890, 'max_depth': 17.922496461958314}. Best is trial#12 with value: 0.8276114674902986.\n",
      "[I 2020-08-06 01:32:38,098] Finished trial#57 with value: 0.8257998732874 with parameters: {'classifier': 'RandomForest', 'n_estimators': 1360, 'max_depth': 20.6941809651116}. Best is trial#12 with value: 0.8276114674902986.\n",
      "[I 2020-08-06 01:32:41,335] Finished trial#58 with value: 0.8239783796626278 with parameters: {'classifier': 'RandomForest', 'n_estimators': 1340, 'max_depth': 13.337696008242418}. Best is trial#12 with value: 0.8276114674902986.\n",
      "[I 2020-08-06 01:32:46,824] Finished trial#59 with value: 0.8221667854597291 with parameters: {'classifier': 'RandomForest', 'n_estimators': 1810, 'max_depth': 33.72889752138349}. Best is trial#12 with value: 0.8276114674902986.\n",
      "[I 2020-08-06 01:32:51,940] Finished trial#60 with value: 0.8239783796626278 with parameters: {'classifier': 'RandomForest', 'n_estimators': 1920, 'max_depth': 18.670243956378265}. Best is trial#12 with value: 0.8276114674902986.\n",
      "[I 2020-08-06 01:32:57,224] Finished trial#61 with value: 0.8257998732874 with parameters: {'classifier': 'RandomForest', 'n_estimators': 1990, 'max_depth': 20.912891510862917}. Best is trial#12 with value: 0.8276114674902986.\n",
      "[I 2020-08-06 01:33:00,514] Finished trial#62 with value: 0.8257899738655263 with parameters: {'classifier': 'RandomForest', 'n_estimators': 1210, 'max_depth': 14.755437276900324}. Best is trial#12 with value: 0.8276114674902986.\n",
      "[I 2020-08-06 01:33:05,482] Finished trial#63 with value: 0.8257998732874 with parameters: {'classifier': 'RandomForest', 'n_estimators': 1850, 'max_depth': 17.066748563549144}. Best is trial#12 with value: 0.8276114674902986.\n",
      "[I 2020-08-06 01:33:09,870] Finished trial#64 with value: 0.8239783796626278 with parameters: {'classifier': 'RandomForest', 'n_estimators': 1490, 'max_depth': 16.41408913399961}. Best is trial#12 with value: 0.8276114674902986.\n",
      "[I 2020-08-06 01:33:12,223] Finished trial#65 with value: 0.8221667854597291 with parameters: {'classifier': 'RandomForest', 'n_estimators': 950, 'max_depth': 22.118770211025673}. Best is trial#12 with value: 0.8276114674902986.\n",
      "[I 2020-08-06 01:33:15,954] Finished trial#66 with value: 0.8239783796626278 with parameters: {'classifier': 'RandomForest', 'n_estimators': 1280, 'max_depth': 24.089229555910652}. Best is trial#12 with value: 0.8276114674902986.\n",
      "[I 2020-08-06 01:33:20,230] Finished trial#67 with value: 0.8221568860378555 with parameters: {'classifier': 'RandomForest', 'n_estimators': 1710, 'max_depth': 13.717108752278122}. Best is trial#12 with value: 0.8276114674902986.\n",
      "[I 2020-08-06 01:33:20,332] Finished trial#68 with value: 0.5589807555238774 with parameters: {'classifier': 'SVC', 'svc_c': 1.2113823706598235e-10}. Best is trial#12 with value: 0.8276114674902986.\n",
      "[I 2020-08-06 01:33:24,226] Finished trial#69 with value: 0.8221667854597291 with parameters: {'classifier': 'RandomForest', 'n_estimators': 1400, 'max_depth': 41.53438897252201}. Best is trial#12 with value: 0.8276114674902986.\n",
      "[I 2020-08-06 01:33:29,774] Finished trial#70 with value: 0.8257899738655263 with parameters: {'classifier': 'RandomForest', 'n_estimators': 2000, 'max_depth': 20.65546539000891}. Best is trial#12 with value: 0.8276114674902986.\n",
      "[I 2020-08-06 01:33:32,734] Finished trial#71 with value: 0.8239783796626278 with parameters: {'classifier': 'RandomForest', 'n_estimators': 1040, 'max_depth': 12.709276682227449}. Best is trial#12 with value: 0.8276114674902986.\n"
     ]
    },
    {
     "name": "stderr",
     "output_type": "stream",
     "text": [
      "[I 2020-08-06 01:33:36,574] Finished trial#72 with value: 0.8239882790845016 with parameters: {'classifier': 'RandomForest', 'n_estimators': 1180, 'max_depth': 27.0965426092884}. Best is trial#12 with value: 0.8276114674902986.\n",
      "[I 2020-08-06 01:33:41,248] Finished trial#73 with value: 0.823968480240754 with parameters: {'classifier': 'RandomForest', 'n_estimators': 1570, 'max_depth': 10.785179438098279}. Best is trial#12 with value: 0.8276114674902986.\n",
      "[I 2020-08-06 01:33:45,004] Finished trial#74 with value: 0.8239783796626278 with parameters: {'classifier': 'RandomForest', 'n_estimators': 1420, 'max_depth': 18.921043200581245}. Best is trial#12 with value: 0.8276114674902986.\n",
      "[I 2020-08-06 01:33:49,959] Finished trial#75 with value: 0.8257998732874 with parameters: {'classifier': 'RandomForest', 'n_estimators': 1680, 'max_depth': 15.62231838337615}. Best is trial#12 with value: 0.8276114674902986.\n",
      "[I 2020-08-06 01:33:55,004] Finished trial#76 with value: 0.8257998732874 with parameters: {'classifier': 'RandomForest', 'n_estimators': 1970, 'max_depth': 20.899376689664976}. Best is trial#12 with value: 0.8276114674902986.\n",
      "[I 2020-08-06 01:33:58,171] Finished trial#77 with value: 0.8221667854597291 with parameters: {'classifier': 'RandomForest', 'n_estimators': 1090, 'max_depth': 14.151842576259082}. Best is trial#12 with value: 0.8276114674902986.\n",
      "[I 2020-08-06 01:34:03,253] Finished trial#78 with value: 0.8239783796626278 with parameters: {'classifier': 'RandomForest', 'n_estimators': 1850, 'max_depth': 17.175972667123244}. Best is trial#12 with value: 0.8276114674902986.\n",
      "[I 2020-08-06 01:34:06,855] Finished trial#79 with value: 0.8257998732874 with parameters: {'classifier': 'RandomForest', 'n_estimators': 1310, 'max_depth': 11.653271766849286}. Best is trial#12 with value: 0.8276114674902986.\n",
      "[I 2020-08-06 01:34:10,346] Finished trial#80 with value: 0.8276114674902986 with parameters: {'classifier': 'RandomForest', 'n_estimators': 1280, 'max_depth': 13.250305146312382}. Best is trial#12 with value: 0.8276114674902986.\n",
      "[I 2020-08-06 01:34:13,784] Finished trial#81 with value: 0.8257998732874 with parameters: {'classifier': 'RandomForest', 'n_estimators': 1230, 'max_depth': 13.018694319414573}. Best is trial#12 with value: 0.8276114674902986.\n",
      "[I 2020-08-06 01:34:16,850] Finished trial#82 with value: 0.8239783796626278 with parameters: {'classifier': 'RandomForest', 'n_estimators': 1250, 'max_depth': 13.585290777055395}. Best is trial#12 with value: 0.8276114674902986.\n",
      "[I 2020-08-06 01:34:19,635] Finished trial#83 with value: 0.8257998732874 with parameters: {'classifier': 'RandomForest', 'n_estimators': 1100, 'max_depth': 14.318644077668417}. Best is trial#12 with value: 0.8276114674902986.\n",
      "[I 2020-08-06 01:34:23,555] Finished trial#84 with value: 0.823968480240754 with parameters: {'classifier': 'RandomForest', 'n_estimators': 1290, 'max_depth': 10.840899575762185}. Best is trial#12 with value: 0.8276114674902986.\n",
      "[I 2020-08-06 01:34:28,485] Finished trial#85 with value: 0.8239783796626278 with parameters: {'classifier': 'RandomForest', 'n_estimators': 1850, 'max_depth': 17.898110134695735}. Best is trial#12 with value: 0.8276114674902986.\n",
      "[I 2020-08-06 01:34:31,139] Finished trial#86 with value: 0.8239783796626278 with parameters: {'classifier': 'RandomForest', 'n_estimators': 870, 'max_depth': 75.10369239603835}. Best is trial#12 with value: 0.8276114674902986.\n",
      "[I 2020-08-06 01:34:33,619] Finished trial#87 with value: 0.823968480240754 with parameters: {'classifier': 'RandomForest', 'n_estimators': 1000, 'max_depth': 20.174751893216225}. Best is trial#12 with value: 0.8276114674902986.\n",
      "[I 2020-08-06 01:34:37,992] Finished trial#88 with value: 0.8239783796626278 with parameters: {'classifier': 'RandomForest', 'n_estimators': 1360, 'max_depth': 16.539606761857044}. Best is trial#12 with value: 0.8276114674902986.\n",
      "[I 2020-08-06 01:34:38,089] Finished trial#89 with value: 0.5589807555238774 with parameters: {'classifier': 'SVC', 'svc_c': 2.890414305167663e-06}. Best is trial#12 with value: 0.8276114674902986.\n",
      "[I 2020-08-06 01:34:41,008] Finished trial#90 with value: 0.8221568860378555 with parameters: {'classifier': 'RandomForest', 'n_estimators': 1160, 'max_depth': 11.535591408513902}. Best is trial#12 with value: 0.8276114674902986.\n",
      "[I 2020-08-06 01:34:46,576] Finished trial#91 with value: 0.8239783796626278 with parameters: {'classifier': 'RandomForest', 'n_estimators': 2000, 'max_depth': 23.416878645945495}. Best is trial#12 with value: 0.8276114674902986.\n",
      "[I 2020-08-06 01:34:50,585] Finished trial#92 with value: 0.8221667854597291 with parameters: {'classifier': 'RandomForest', 'n_estimators': 1470, 'max_depth': 26.497851654774976}. Best is trial#12 with value: 0.8276114674902986.\n",
      "[I 2020-08-06 01:34:51,244] Finished trial#93 with value: 0.8203551912568307 with parameters: {'classifier': 'RandomForest', 'n_estimators': 230, 'max_depth': 16.116571789691292}. Best is trial#12 with value: 0.8276114674902986.\n",
      "[I 2020-08-06 01:34:54,755] Finished trial#94 with value: 0.8221568860378555 with parameters: {'classifier': 'RandomForest', 'n_estimators': 1360, 'max_depth': 15.087483375755818}. Best is trial#12 with value: 0.8276114674902986.\n",
      "[I 2020-08-06 01:34:59,233] Finished trial#95 with value: 0.8257899738655263 with parameters: {'classifier': 'RandomForest', 'n_estimators': 1560, 'max_depth': 12.57092737134704}. Best is trial#12 with value: 0.8276114674902986.\n",
      "[I 2020-08-06 01:35:03,487] Finished trial#96 with value: 0.8276114674902986 with parameters: {'classifier': 'RandomForest', 'n_estimators': 1660, 'max_depth': 18.55815550740104}. Best is trial#12 with value: 0.8276114674902986.\n",
      "[I 2020-08-06 01:35:07,113] Finished trial#97 with value: 0.8221568860378555 with parameters: {'classifier': 'RandomForest', 'n_estimators': 1190, 'max_depth': 21.587111027006923}. Best is trial#12 with value: 0.8276114674902986.\n",
      "[I 2020-08-06 01:35:10,443] Finished trial#98 with value: 0.8203452918349569 with parameters: {'classifier': 'RandomForest', 'n_estimators': 1230, 'max_depth': 25.149669763156336}. Best is trial#12 with value: 0.8276114674902986.\n",
      "[I 2020-08-06 01:35:13,144] Finished trial#99 with value: 0.8239783796626278 with parameters: {'classifier': 'RandomForest', 'n_estimators': 1090, 'max_depth': 14.47575373035641}. Best is trial#12 with value: 0.8276114674902986.\n"
     ]
    },
    {
     "name": "stdout",
     "output_type": "stream",
     "text": [
      "Accuracy: 0.8276114674902986\n",
      "Best hyperparameters: {'classifier': 'RandomForest', 'n_estimators': 1300, 'max_depth': 13.246273436648117}\n"
     ]
    }
   ],
   "source": [
    "study = optuna.create_study(direction='maximize')\n",
    "study.optimize(objective, n_trials=100)\n",
    "\n",
    "trial = study.best_trial\n",
    "\n",
    "print('Accuracy: {}'.format(trial.value))\n",
    "print(\"Best hyperparameters: {}\".format(trial.params))"
   ]
  },
  {
   "cell_type": "code",
   "execution_count": 35,
   "metadata": {},
   "outputs": [
    {
     "data": {
      "text/plain": [
       "FrozenTrial(number=12, value=0.8276114674902986, datetime_start=datetime.datetime(2020, 8, 6, 1, 26, 39, 493348), datetime_complete=datetime.datetime(2020, 8, 6, 1, 26, 42, 706757), params={'classifier': 'RandomForest', 'n_estimators': 1300, 'max_depth': 13.246273436648117}, distributions={'classifier': CategoricalDistribution(choices=('RandomForest', 'SVC')), 'n_estimators': IntUniformDistribution(high=2000, low=200, step=10), 'max_depth': LogUniformDistribution(high=100, low=10)}, user_attrs={}, system_attrs={}, intermediate_values={}, trial_id=12, state=TrialState.COMPLETE)"
      ]
     },
     "execution_count": 35,
     "metadata": {},
     "output_type": "execute_result"
    }
   ],
   "source": [
    "trial"
   ]
  },
  {
   "cell_type": "code",
   "execution_count": 36,
   "metadata": {},
   "outputs": [
    {
     "data": {
      "text/plain": [
       "{'classifier': 'RandomForest',\n",
       " 'n_estimators': 1300,\n",
       " 'max_depth': 13.246273436648117}"
      ]
     },
     "execution_count": 36,
     "metadata": {},
     "output_type": "execute_result"
    }
   ],
   "source": [
    "study.best_params"
   ]
  },
  {
   "cell_type": "code",
   "execution_count": 37,
   "metadata": {},
   "outputs": [
    {
     "data": {
      "text/plain": [
       "RandomForestClassifier(max_depth=30, n_estimators=330)"
      ]
     },
     "execution_count": 37,
     "metadata": {},
     "output_type": "execute_result"
    }
   ],
   "source": [
    "rf=RandomForestClassifier(n_estimators=330,max_depth=30)\n",
    "rf.fit(X_train,y_train)"
   ]
  },
  {
   "cell_type": "code",
   "execution_count": 38,
   "metadata": {},
   "outputs": [
    {
     "name": "stdout",
     "output_type": "stream",
     "text": [
      "[[63 12]\n",
      " [16 47]]\n",
      "0.7971014492753623\n",
      "              precision    recall  f1-score   support\n",
      "\n",
      "           0       0.80      0.84      0.82        75\n",
      "           1       0.80      0.75      0.77        63\n",
      "\n",
      "    accuracy                           0.80       138\n",
      "   macro avg       0.80      0.79      0.79       138\n",
      "weighted avg       0.80      0.80      0.80       138\n",
      "\n"
     ]
    }
   ],
   "source": [
    "y_pred=rf.predict(X_test)\n",
    "print(confusion_matrix(y_test,y_pred))\n",
    "print(accuracy_score(y_test,y_pred))\n",
    "print(classification_report(y_test,y_pred))"
   ]
  },
  {
   "cell_type": "code",
   "execution_count": 39,
   "metadata": {},
   "outputs": [],
   "source": [
    "import pickle\n",
    "\n",
    " # save the model to disk\n",
    "filename = 'finalized_model_RF.sav'\n",
    "pickle.dump(rf_randomcv, open(filename, 'wb'))"
   ]
  },
  {
   "cell_type": "code",
   "execution_count": null,
   "metadata": {},
   "outputs": [],
   "source": []
  },
  {
   "cell_type": "code",
   "execution_count": null,
   "metadata": {},
   "outputs": [],
   "source": []
  }
 ],
 "metadata": {
  "kernelspec": {
   "display_name": "Python 3",
   "language": "python",
   "name": "python3"
  },
  "language_info": {
   "codemirror_mode": {
    "name": "ipython",
    "version": 3
   },
   "file_extension": ".py",
   "mimetype": "text/x-python",
   "name": "python",
   "nbconvert_exporter": "python",
   "pygments_lexer": "ipython3",
   "version": "3.7.6"
  }
 },
 "nbformat": 4,
 "nbformat_minor": 4
}
