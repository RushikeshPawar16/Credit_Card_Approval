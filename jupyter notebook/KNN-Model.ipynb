{
 "cells": [
  {
   "cell_type": "code",
   "execution_count": 1,
   "metadata": {},
   "outputs": [],
   "source": [
    "import pandas as pd\n",
    "import numpy as np\n",
    "import matplotlib.pyplot as plt\n",
    "import seaborn as sns"
   ]
  },
  {
   "cell_type": "code",
   "execution_count": 2,
   "metadata": {},
   "outputs": [],
   "source": [
    "import warnings\n",
    "warnings.filterwarnings('ignore')"
   ]
  },
  {
   "cell_type": "code",
   "execution_count": 3,
   "metadata": {},
   "outputs": [
    {
     "data": {
      "text/html": [
       "<div>\n",
       "<style scoped>\n",
       "    .dataframe tbody tr th:only-of-type {\n",
       "        vertical-align: middle;\n",
       "    }\n",
       "\n",
       "    .dataframe tbody tr th {\n",
       "        vertical-align: top;\n",
       "    }\n",
       "\n",
       "    .dataframe thead th {\n",
       "        text-align: right;\n",
       "    }\n",
       "</style>\n",
       "<table border=\"1\" class=\"dataframe\">\n",
       "  <thead>\n",
       "    <tr style=\"text-align: right;\">\n",
       "      <th></th>\n",
       "      <th>PriorDefault_t</th>\n",
       "      <th>YearsEmployed</th>\n",
       "      <th>CreditScore</th>\n",
       "      <th>Income</th>\n",
       "      <th>Approved</th>\n",
       "    </tr>\n",
       "  </thead>\n",
       "  <tbody>\n",
       "    <tr>\n",
       "      <th>0</th>\n",
       "      <td>1</td>\n",
       "      <td>3.04</td>\n",
       "      <td>6</td>\n",
       "      <td>560.000000</td>\n",
       "      <td>1</td>\n",
       "    </tr>\n",
       "    <tr>\n",
       "      <th>1</th>\n",
       "      <td>1</td>\n",
       "      <td>1.50</td>\n",
       "      <td>0</td>\n",
       "      <td>824.000000</td>\n",
       "      <td>1</td>\n",
       "    </tr>\n",
       "    <tr>\n",
       "      <th>2</th>\n",
       "      <td>1</td>\n",
       "      <td>3.75</td>\n",
       "      <td>5</td>\n",
       "      <td>3.000000</td>\n",
       "      <td>1</td>\n",
       "    </tr>\n",
       "    <tr>\n",
       "      <th>3</th>\n",
       "      <td>1</td>\n",
       "      <td>1.71</td>\n",
       "      <td>0</td>\n",
       "      <td>322.159652</td>\n",
       "      <td>1</td>\n",
       "    </tr>\n",
       "    <tr>\n",
       "      <th>4</th>\n",
       "      <td>1</td>\n",
       "      <td>2.50</td>\n",
       "      <td>0</td>\n",
       "      <td>322.159652</td>\n",
       "      <td>1</td>\n",
       "    </tr>\n",
       "  </tbody>\n",
       "</table>\n",
       "</div>"
      ],
      "text/plain": [
       "   PriorDefault_t  YearsEmployed  CreditScore      Income  Approved\n",
       "0               1           3.04            6  560.000000         1\n",
       "1               1           1.50            0  824.000000         1\n",
       "2               1           3.75            5    3.000000         1\n",
       "3               1           1.71            0  322.159652         1\n",
       "4               1           2.50            0  322.159652         1"
      ]
     },
     "execution_count": 3,
     "metadata": {},
     "output_type": "execute_result"
    }
   ],
   "source": [
    "df=pd.read_csv('Feature_Selection.csv')\n",
    "df.head()"
   ]
  },
  {
   "cell_type": "code",
   "execution_count": 4,
   "metadata": {},
   "outputs": [],
   "source": [
    "from sklearn.preprocessing import StandardScaler\n",
    "\n",
    "scaler = StandardScaler()\n",
    "\n",
    "scaled_features = scaler.fit_transform(df.drop('Approved',axis=1))"
   ]
  },
  {
   "cell_type": "code",
   "execution_count": 5,
   "metadata": {},
   "outputs": [
    {
     "data": {
      "text/html": [
       "<div>\n",
       "<style scoped>\n",
       "    .dataframe tbody tr th:only-of-type {\n",
       "        vertical-align: middle;\n",
       "    }\n",
       "\n",
       "    .dataframe tbody tr th {\n",
       "        vertical-align: top;\n",
       "    }\n",
       "\n",
       "    .dataframe thead th {\n",
       "        text-align: right;\n",
       "    }\n",
       "</style>\n",
       "<table border=\"1\" class=\"dataframe\">\n",
       "  <thead>\n",
       "    <tr style=\"text-align: right;\">\n",
       "      <th></th>\n",
       "      <th>PriorDefault_t</th>\n",
       "      <th>YearsEmployed</th>\n",
       "      <th>CreditScore</th>\n",
       "      <th>Income</th>\n",
       "    </tr>\n",
       "  </thead>\n",
       "  <tbody>\n",
       "    <tr>\n",
       "      <th>0</th>\n",
       "      <td>0.955975</td>\n",
       "      <td>0.378904</td>\n",
       "      <td>0.739920</td>\n",
       "      <td>0.210731</td>\n",
       "    </tr>\n",
       "    <tr>\n",
       "      <th>1</th>\n",
       "      <td>0.955975</td>\n",
       "      <td>-0.205818</td>\n",
       "      <td>-0.493976</td>\n",
       "      <td>0.764994</td>\n",
       "    </tr>\n",
       "    <tr>\n",
       "      <th>2</th>\n",
       "      <td>0.955975</td>\n",
       "      <td>0.648484</td>\n",
       "      <td>0.534270</td>\n",
       "      <td>-0.958679</td>\n",
       "    </tr>\n",
       "    <tr>\n",
       "      <th>3</th>\n",
       "      <td>0.955975</td>\n",
       "      <td>-0.126083</td>\n",
       "      <td>-0.493976</td>\n",
       "      <td>-0.288610</td>\n",
       "    </tr>\n",
       "    <tr>\n",
       "      <th>4</th>\n",
       "      <td>0.955975</td>\n",
       "      <td>0.173872</td>\n",
       "      <td>-0.493976</td>\n",
       "      <td>-0.288610</td>\n",
       "    </tr>\n",
       "  </tbody>\n",
       "</table>\n",
       "</div>"
      ],
      "text/plain": [
       "   PriorDefault_t  YearsEmployed  CreditScore    Income\n",
       "0        0.955975       0.378904     0.739920  0.210731\n",
       "1        0.955975      -0.205818    -0.493976  0.764994\n",
       "2        0.955975       0.648484     0.534270 -0.958679\n",
       "3        0.955975      -0.126083    -0.493976 -0.288610\n",
       "4        0.955975       0.173872    -0.493976 -0.288610"
      ]
     },
     "execution_count": 5,
     "metadata": {},
     "output_type": "execute_result"
    }
   ],
   "source": [
    "\n",
    "df_feat = pd.DataFrame(scaled_features,columns=df.columns[:-1])\n",
    "df_feat.head()"
   ]
  },
  {
   "cell_type": "code",
   "execution_count": 6,
   "metadata": {},
   "outputs": [],
   "source": [
    "#### Train Test Split\n",
    "from sklearn.model_selection import train_test_split\n",
    "X_train,X_test,y_train,y_test=train_test_split(scaled_features,df['Approved'],test_size=0.20,random_state=None)"
   ]
  },
  {
   "cell_type": "code",
   "execution_count": 7,
   "metadata": {},
   "outputs": [
    {
     "data": {
      "text/plain": [
       "(138,)"
      ]
     },
     "execution_count": 7,
     "metadata": {},
     "output_type": "execute_result"
    }
   ],
   "source": [
    "y_test.shape\n",
    "#i have a doubt here\n",
    "#tell me\n",
    "#here output is 57 right..ya"
   ]
  },
  {
   "cell_type": "code",
   "execution_count": 8,
   "metadata": {},
   "outputs": [
    {
     "data": {
      "text/plain": [
       "0    83\n",
       "1    55\n",
       "Name: Approved, dtype: int64"
      ]
     },
     "execution_count": 8,
     "metadata": {},
     "output_type": "execute_result"
    }
   ],
   "source": [
    "y_test.value_counts()\n",
    "#then why giving more values here\n",
    "# is it same y_test?\n",
    "#yes\n",
    "#good.ya. sometimes it happens\n",
    "#i have one more doubt.t"
   ]
  },
  {
   "cell_type": "code",
   "execution_count": 9,
   "metadata": {},
   "outputs": [],
   "source": [
    "#X_train.value_counts()"
   ]
  },
  {
   "cell_type": "code",
   "execution_count": 10,
   "metadata": {},
   "outputs": [],
   "source": [
    "#X_test.value_counts()"
   ]
  },
  {
   "cell_type": "code",
   "execution_count": 11,
   "metadata": {},
   "outputs": [
    {
     "data": {
      "text/plain": [
       "0    300\n",
       "1    251\n",
       "Name: Approved, dtype: int64"
      ]
     },
     "execution_count": 11,
     "metadata": {},
     "output_type": "execute_result"
    }
   ],
   "source": [
    "y_train.value_counts()"
   ]
  },
  {
   "cell_type": "code",
   "execution_count": 12,
   "metadata": {},
   "outputs": [],
   "source": [
    "from sklearn.neighbors import KNeighborsClassifier\n",
    "knn_classifier=KNeighborsClassifier(n_neighbors=1).fit(X_train,y_train)\n",
    "prediction=knn_classifier.predict(X_test)"
   ]
  },
  {
   "cell_type": "code",
   "execution_count": 13,
   "metadata": {},
   "outputs": [
    {
     "name": "stdout",
     "output_type": "stream",
     "text": [
      "confusion matrix : [[62 21]\n",
      " [13 42]]\n",
      "Accuracy Score : 0.7536231884057971\n",
      "              precision    recall  f1-score   support\n",
      "\n",
      "           0       0.83      0.75      0.78        83\n",
      "           1       0.67      0.76      0.71        55\n",
      "\n",
      "    accuracy                           0.75       138\n",
      "   macro avg       0.75      0.76      0.75       138\n",
      "weighted avg       0.76      0.75      0.76       138\n",
      "\n"
     ]
    }
   ],
   "source": [
    "from sklearn.metrics import confusion_matrix,classification_report,accuracy_score,roc_curve, roc_auc_score\n",
    "print(f'confusion matrix : {confusion_matrix(y_test,prediction)}')\n",
    "print(f'Accuracy Score : {accuracy_score(y_test,prediction)}')\n",
    "print(classification_report(y_test,prediction))"
   ]
  },
  {
   "cell_type": "code",
   "execution_count": 14,
   "metadata": {},
   "outputs": [
    {
     "data": {
      "text/plain": [
       "0    83\n",
       "1    55\n",
       "Name: Approved, dtype: int64"
      ]
     },
     "execution_count": 14,
     "metadata": {},
     "output_type": "execute_result"
    }
   ],
   "source": [
    "y_test.value_counts()\n",
    "# see so after kfold the dimension varies\n",
    "# do u get that?\n",
    "# but how..?\n",
    "# i dont know exactly but we can check the y_test by running line by line\n",
    "# orelse if y_test is 58. is it ok right?\n",
    "# i have getting this output since morning"
   ]
  },
  {
   "cell_type": "code",
   "execution_count": 15,
   "metadata": {},
   "outputs": [
    {
     "data": {
      "text/plain": [
       "0.7553121577217963"
      ]
     },
     "execution_count": 15,
     "metadata": {},
     "output_type": "execute_result"
    }
   ],
   "source": [
    "auc = roc_auc_score(y_test, prediction)\n",
    "auc"
   ]
  },
  {
   "cell_type": "code",
   "execution_count": 16,
   "metadata": {},
   "outputs": [],
   "source": [
    "fpr, tpr, thresholds = roc_curve(y_test, prediction)"
   ]
  },
  {
   "cell_type": "code",
   "execution_count": 17,
   "metadata": {},
   "outputs": [
    {
     "data": {
      "image/png": "[encoded data removed]",
      "text/plain": [
       "<Figure size 432x288 with 1 Axes>"
      ]
     },
     "metadata": {
      "needs_background": "light"
     },
     "output_type": "display_data"
    }
   ],
   "source": [
    "plt.plot(fpr, tpr, color='orange', label='ROC')\n",
    "plt.plot([0, 1], [0, 1], color='darkblue', linestyle='--',label='ROC curve (area = %0.2f)' % auc)\n",
    "plt.xlabel('False Positive Rate')\n",
    "plt.ylabel('True Positive Rate')\n",
    "plt.title('Receiver Operating Characteristic (ROC) Curve for Naive Bayes')\n",
    "plt.legend()\n",
    "plt.show()"
   ]
  },
  {
   "cell_type": "code",
   "execution_count": 18,
   "metadata": {},
   "outputs": [],
   "source": [
    "from sklearn.model_selection import RandomizedSearchCV\n",
    "random_grid = { 'algorithm' : ['ball_tree', 'kd_tree', 'brute'],\n",
    "               'leaf_size' : [18,20,25,27,30,32,34],\n",
    "               'n_neighbors' : [3,5,7,9,10,11,12,13]\n",
    "              }"
   ]
  },
  {
   "cell_type": "code",
   "execution_count": 19,
   "metadata": {},
   "outputs": [],
   "source": [
    "# Use the random grid to search for best hyperparameters\n",
    "# First create the base model to tune\n",
    "Classifier=KNeighborsClassifier()"
   ]
  },
  {
   "cell_type": "code",
   "execution_count": 20,
   "metadata": {},
   "outputs": [],
   "source": [
    "# Random search of parameters, using 3 fold cross validation, \n",
    "# search across 100 different combinations\n",
    "knn_random = RandomizedSearchCV(estimator = Classifier, param_distributions = random_grid, cv = 5, verbose=2)"
   ]
  },
  {
   "cell_type": "code",
   "execution_count": 21,
   "metadata": {},
   "outputs": [
    {
     "name": "stdout",
     "output_type": "stream",
     "text": [
      "Fitting 5 folds for each of 10 candidates, totalling 50 fits\n",
      "[CV] n_neighbors=5, leaf_size=32, algorithm=kd_tree ..................\n",
      "[CV] ... n_neighbors=5, leaf_size=32, algorithm=kd_tree, total=   0.0s\n",
      "[CV] n_neighbors=5, leaf_size=32, algorithm=kd_tree ..................\n",
      "[CV] ... n_neighbors=5, leaf_size=32, algorithm=kd_tree, total=   0.0s\n",
      "[CV] n_neighbors=5, leaf_size=32, algorithm=kd_tree ..................\n",
      "[CV] ... n_neighbors=5, leaf_size=32, algorithm=kd_tree, total=   0.0s\n",
      "[CV] n_neighbors=5, leaf_size=32, algorithm=kd_tree ..................\n",
      "[CV] ... n_neighbors=5, leaf_size=32, algorithm=kd_tree, total=   0.0s\n",
      "[CV] n_neighbors=5, leaf_size=32, algorithm=kd_tree ..................\n",
      "[CV] ... n_neighbors=5, leaf_size=32, algorithm=kd_tree, total=   0.0s\n",
      "[CV] n_neighbors=11, leaf_size=32, algorithm=kd_tree .................\n",
      "[CV] .. n_neighbors=11, leaf_size=32, algorithm=kd_tree, total=   0.0s\n",
      "[CV] n_neighbors=11, leaf_size=32, algorithm=kd_tree .................\n",
      "[CV] .. n_neighbors=11, leaf_size=32, algorithm=kd_tree, total=   0.0s\n",
      "[CV] n_neighbors=11, leaf_size=32, algorithm=kd_tree .................\n",
      "[CV] .. n_neighbors=11, leaf_size=32, algorithm=kd_tree, total=   0.0s\n",
      "[CV] n_neighbors=11, leaf_size=32, algorithm=kd_tree .................\n",
      "[CV] .. n_neighbors=11, leaf_size=32, algorithm=kd_tree, total=   0.0s\n",
      "[CV] n_neighbors=11, leaf_size=32, algorithm=kd_tree .................\n",
      "[CV] .. n_neighbors=11, leaf_size=32, algorithm=kd_tree, total=   0.0s\n",
      "[CV] n_neighbors=5, leaf_size=27, algorithm=kd_tree ..................\n",
      "[CV] ... n_neighbors=5, leaf_size=27, algorithm=kd_tree, total=   0.0s\n",
      "[CV] n_neighbors=5, leaf_size=27, algorithm=kd_tree ..................\n",
      "[CV] ... n_neighbors=5, leaf_size=27, algorithm=kd_tree, total=   0.0s\n",
      "[CV] n_neighbors=5, leaf_size=27, algorithm=kd_tree ..................\n",
      "[CV] ... n_neighbors=5, leaf_size=27, algorithm=kd_tree, total=   0.0s"
     ]
    },
    {
     "name": "stderr",
     "output_type": "stream",
     "text": [
      "[Parallel(n_jobs=1)]: Using backend SequentialBackend with 1 concurrent workers.\n",
      "[Parallel(n_jobs=1)]: Done   1 out of   1 | elapsed:    0.0s remaining:    0.0s\n"
     ]
    },
    {
     "name": "stdout",
     "output_type": "stream",
     "text": [
      "\n",
      "[CV] n_neighbors=5, leaf_size=27, algorithm=kd_tree ..................\n",
      "[CV] ... n_neighbors=5, leaf_size=27, algorithm=kd_tree, total=   0.0s\n",
      "[CV] n_neighbors=5, leaf_size=27, algorithm=kd_tree ..................\n",
      "[CV] ... n_neighbors=5, leaf_size=27, algorithm=kd_tree, total=   0.0s\n",
      "[CV] n_neighbors=11, leaf_size=25, algorithm=ball_tree ...............\n",
      "[CV]  n_neighbors=11, leaf_size=25, algorithm=ball_tree, total=   0.1s\n",
      "[CV] n_neighbors=11, leaf_size=25, algorithm=ball_tree ...............\n",
      "[CV]  n_neighbors=11, leaf_size=25, algorithm=ball_tree, total=   0.0s\n",
      "[CV] n_neighbors=11, leaf_size=25, algorithm=ball_tree ...............\n",
      "[CV]  n_neighbors=11, leaf_size=25, algorithm=ball_tree, total=   0.0s\n",
      "[CV] n_neighbors=11, leaf_size=25, algorithm=ball_tree ...............\n",
      "[CV]  n_neighbors=11, leaf_size=25, algorithm=ball_tree, total=   0.0s\n",
      "[CV] n_neighbors=11, leaf_size=25, algorithm=ball_tree ...............\n",
      "[CV]  n_neighbors=11, leaf_size=25, algorithm=ball_tree, total=   0.0s\n",
      "[CV] n_neighbors=5, leaf_size=30, algorithm=brute ....................\n",
      "[CV] ..... n_neighbors=5, leaf_size=30, algorithm=brute, total=   0.1s\n",
      "[CV] n_neighbors=5, leaf_size=30, algorithm=brute ....................\n",
      "[CV] ..... n_neighbors=5, leaf_size=30, algorithm=brute, total=   0.0s\n",
      "[CV] n_neighbors=5, leaf_size=30, algorithm=brute ....................\n",
      "[CV] ..... n_neighbors=5, leaf_size=30, algorithm=brute, total=   0.0s\n",
      "[CV] n_neighbors=5, leaf_size=30, algorithm=brute ....................\n",
      "[CV] ..... n_neighbors=5, leaf_size=30, algorithm=brute, total=   0.0s\n",
      "[CV] n_neighbors=5, leaf_size=30, algorithm=brute ....................\n",
      "[CV] ..... n_neighbors=5, leaf_size=30, algorithm=brute, total=   0.0s\n",
      "[CV] n_neighbors=5, leaf_size=20, algorithm=ball_tree ................\n",
      "[CV] . n_neighbors=5, leaf_size=20, algorithm=ball_tree, total=   0.0s\n",
      "[CV] n_neighbors=5, leaf_size=20, algorithm=ball_tree ................\n",
      "[CV] . n_neighbors=5, leaf_size=20, algorithm=ball_tree, total=   0.0s\n",
      "[CV] n_neighbors=5, leaf_size=20, algorithm=ball_tree ................\n",
      "[CV] . n_neighbors=5, leaf_size=20, algorithm=ball_tree, total=   0.0s\n",
      "[CV] n_neighbors=5, leaf_size=20, algorithm=ball_tree ................\n",
      "[CV] . n_neighbors=5, leaf_size=20, algorithm=ball_tree, total=   0.0s\n",
      "[CV] n_neighbors=5, leaf_size=20, algorithm=ball_tree ................\n",
      "[CV] . n_neighbors=5, leaf_size=20, algorithm=ball_tree, total=   0.0s\n",
      "[CV] n_neighbors=7, leaf_size=34, algorithm=brute ....................\n",
      "[CV] ..... n_neighbors=7, leaf_size=34, algorithm=brute, total=   0.0s\n",
      "[CV] n_neighbors=7, leaf_size=34, algorithm=brute ....................\n",
      "[CV] ..... n_neighbors=7, leaf_size=34, algorithm=brute, total=   0.0s\n",
      "[CV] n_neighbors=7, leaf_size=34, algorithm=brute ....................\n",
      "[CV] ..... n_neighbors=7, leaf_size=34, algorithm=brute, total=   0.0s\n",
      "[CV] n_neighbors=7, leaf_size=34, algorithm=brute ....................\n",
      "[CV] ..... n_neighbors=7, leaf_size=34, algorithm=brute, total=   0.0s\n",
      "[CV] n_neighbors=7, leaf_size=34, algorithm=brute ....................\n",
      "[CV] ..... n_neighbors=7, leaf_size=34, algorithm=brute, total=   0.0s\n",
      "[CV] n_neighbors=9, leaf_size=20, algorithm=ball_tree ................\n",
      "[CV] . n_neighbors=9, leaf_size=20, algorithm=ball_tree, total=   0.1s\n",
      "[CV] n_neighbors=9, leaf_size=20, algorithm=ball_tree ................\n",
      "[CV] . n_neighbors=9, leaf_size=20, algorithm=ball_tree, total=   0.0s\n",
      "[CV] n_neighbors=9, leaf_size=20, algorithm=ball_tree ................\n",
      "[CV] . n_neighbors=9, leaf_size=20, algorithm=ball_tree, total=   0.0s\n",
      "[CV] n_neighbors=9, leaf_size=20, algorithm=ball_tree ................\n",
      "[CV] . n_neighbors=9, leaf_size=20, algorithm=ball_tree, total=   0.0s\n",
      "[CV] n_neighbors=9, leaf_size=20, algorithm=ball_tree ................\n",
      "[CV] . n_neighbors=9, leaf_size=20, algorithm=ball_tree, total=   0.0s\n",
      "[CV] n_neighbors=9, leaf_size=25, algorithm=brute ....................\n",
      "[CV] ..... n_neighbors=9, leaf_size=25, algorithm=brute, total=   0.0s\n",
      "[CV] n_neighbors=9, leaf_size=25, algorithm=brute ....................\n",
      "[CV] ..... n_neighbors=9, leaf_size=25, algorithm=brute, total=   0.0s\n",
      "[CV] n_neighbors=9, leaf_size=25, algorithm=brute ....................\n",
      "[CV] ..... n_neighbors=9, leaf_size=25, algorithm=brute, total=   0.0s\n",
      "[CV] n_neighbors=9, leaf_size=25, algorithm=brute ....................\n",
      "[CV] ..... n_neighbors=9, leaf_size=25, algorithm=brute, total=   0.0s\n",
      "[CV] n_neighbors=9, leaf_size=25, algorithm=brute ....................\n",
      "[CV] ..... n_neighbors=9, leaf_size=25, algorithm=brute, total=   0.0s\n",
      "[CV] n_neighbors=10, leaf_size=20, algorithm=brute ...................\n",
      "[CV] .... n_neighbors=10, leaf_size=20, algorithm=brute, total=   0.0s\n",
      "[CV] n_neighbors=10, leaf_size=20, algorithm=brute ...................\n",
      "[CV] .... n_neighbors=10, leaf_size=20, algorithm=brute, total=   0.0s\n",
      "[CV] n_neighbors=10, leaf_size=20, algorithm=brute ...................\n",
      "[CV] .... n_neighbors=10, leaf_size=20, algorithm=brute, total=   0.0s\n",
      "[CV] n_neighbors=10, leaf_size=20, algorithm=brute ...................\n",
      "[CV] .... n_neighbors=10, leaf_size=20, algorithm=brute, total=   0.0s\n",
      "[CV] n_neighbors=10, leaf_size=20, algorithm=brute ...................\n",
      "[CV] .... n_neighbors=10, leaf_size=20, algorithm=brute, total=   0.0s\n"
     ]
    },
    {
     "name": "stderr",
     "output_type": "stream",
     "text": [
      "[Parallel(n_jobs=1)]: Done  50 out of  50 | elapsed:    0.9s finished\n"
     ]
    },
    {
     "data": {
      "text/plain": [
       "RandomizedSearchCV(cv=5, estimator=KNeighborsClassifier(),\n",
       "                   param_distributions={'algorithm': ['ball_tree', 'kd_tree',\n",
       "                                                      'brute'],\n",
       "                                        'leaf_size': [18, 20, 25, 27, 30, 32,\n",
       "                                                      34],\n",
       "                                        'n_neighbors': [3, 5, 7, 9, 10, 11, 12,\n",
       "                                                        13]},\n",
       "                   verbose=2)"
      ]
     },
     "execution_count": 21,
     "metadata": {},
     "output_type": "execute_result"
    }
   ],
   "source": [
    "knn_random.fit(X_train,y_train)"
   ]
  },
  {
   "cell_type": "code",
   "execution_count": 22,
   "metadata": {},
   "outputs": [
    {
     "data": {
      "text/plain": [
       "{'n_neighbors': 11, 'leaf_size': 32, 'algorithm': 'kd_tree'}"
      ]
     },
     "execution_count": 22,
     "metadata": {},
     "output_type": "execute_result"
    }
   ],
   "source": [
    "knn_random.best_params_"
   ]
  },
  {
   "cell_type": "code",
   "execution_count": 23,
   "metadata": {},
   "outputs": [],
   "source": [
    "best_random_grid=knn_random.best_estimator_"
   ]
  },
  {
   "cell_type": "code",
   "execution_count": 24,
   "metadata": {},
   "outputs": [
    {
     "name": "stdout",
     "output_type": "stream",
     "text": [
      "[[65 18]\n",
      " [10 45]]\n",
      "Accuracy Score 0.7971014492753623\n",
      "Classification report:               precision    recall  f1-score   support\n",
      "\n",
      "           0       0.87      0.78      0.82        83\n",
      "           1       0.71      0.82      0.76        55\n",
      "\n",
      "    accuracy                           0.80       138\n",
      "   macro avg       0.79      0.80      0.79       138\n",
      "weighted avg       0.81      0.80      0.80       138\n",
      "\n"
     ]
    }
   ],
   "source": [
    "from sklearn.metrics import accuracy_score,accuracy_score,roc_curve, roc_auc_score\n",
    "y_pred=best_random_grid.predict(X_test)\n",
    "print(confusion_matrix(y_test,y_pred))\n",
    "print(\"Accuracy Score {}\".format(accuracy_score(y_test,y_pred)))\n",
    "print(\"Classification report: {}\".format(classification_report(y_test,y_pred)))"
   ]
  },
  {
   "cell_type": "code",
   "execution_count": null,
   "metadata": {},
   "outputs": [],
   "source": []
  },
  {
   "cell_type": "code",
   "execution_count": 25,
   "metadata": {},
   "outputs": [
    {
     "data": {
      "text/plain": [
       "5"
      ]
     },
     "execution_count": 25,
     "metadata": {},
     "output_type": "execute_result"
    }
   ],
   "source": [
    "#k-fold cross validation\n",
    "from sklearn.model_selection import KFold\n",
    "kfold = KFold(n_splits=5,random_state= None)\n",
    "kfold.get_n_splits(scaled_features)\n"
   ]
  },
  {
   "cell_type": "code",
   "execution_count": 26,
   "metadata": {},
   "outputs": [
    {
     "name": "stdout",
     "output_type": "stream",
     "text": [
      "for k =  1\n",
      "train_score is :   0.9056261343012704 and test score is :   0.6521739130434783\n",
      "for k =  2\n",
      "train_score is :   0.8656987295825771 and test score is :   0.7463768115942029\n",
      "for k =  3\n",
      "train_score is :   0.8402903811252269 and test score is :   0.9347826086956522\n",
      "for k =  4\n",
      "train_score is :   0.8747731397459165 and test score is :   0.8260869565217391\n",
      "for k =  5\n",
      "train_score is :   0.8478260869565217 and test score is :   0.8832116788321168\n",
      "************************************************\n",
      "************************************************\n",
      "Average train score is :   0.8668428943423026\n",
      "Average test score is :   0.8085263937374378\n"
     ]
    }
   ],
   "source": [
    "from statistics import mean\n",
    "knn = KNeighborsClassifier(algorithm = 'brute', leaf_size =18, n_neighbors =10)\n",
    "\n",
    "cnt =0\n",
    "count=[]\n",
    "train_score =[]\n",
    "test_score = []\n",
    "\n",
    "for train_index,test_index in kfold.split(scaled_features):\n",
    "    X_train, X_test = scaled_features[train_index], scaled_features[test_index] # our scaled data is an array so it can work on x[value]\n",
    "    y_train, y_test = df['Approved'].iloc[train_index], df['Approved'].iloc[test_index] # y is a dataframe so we have to use \"iloc\" to retreive data\n",
    "    knn.fit(X_train,y_train)\n",
    "    train_score_ = knn.score(X_train,y_train)\n",
    "    test_score_ =  knn.score(X_test,y_test)\n",
    "    cnt+=1\n",
    "    count.append(cnt)\n",
    "    train_score.append(train_score_)\n",
    "    test_score.append(test_score_)\n",
    "    \n",
    "    print(\"for k = \", cnt)\n",
    "    print(\"train_score is :  \", train_score_, \"and test score is :  \", test_score_)\n",
    "print(\"************************************************\")\n",
    "print(\"************************************************\")\n",
    "print(\"Average train score is :  \", mean(train_score))\n",
    "print(\"Average test score is :  \", mean(test_score))"
   ]
  },
  {
   "cell_type": "code",
   "execution_count": 27,
   "metadata": {},
   "outputs": [
    {
     "data": {
      "text/plain": [
       "([<matplotlib.axis.YTick at 0x24095bdc108>,\n",
       "  <matplotlib.axis.YTick at 0x24095bdce88>,\n",
       "  <matplotlib.axis.YTick at 0x24095be2a08>,\n",
       "  <matplotlib.axis.YTick at 0x24095c30308>,\n",
       "  <matplotlib.axis.YTick at 0x24095c30b88>,\n",
       "  <matplotlib.axis.YTick at 0x24095c34408>,\n",
       "  <matplotlib.axis.YTick at 0x24095c34c88>],\n",
       " <a list of 7 Text major ticklabel objects>)"
      ]
     },
     "execution_count": 27,
     "metadata": {},
     "output_type": "execute_result"
    },
    {
     "data": {
      "image/png": "[encoded data removed]",
      "text/plain": [
       "<Figure size 432x288 with 1 Axes>"
      ]
     },
     "metadata": {
      "needs_background": "light"
     },
     "output_type": "display_data"
    }
   ],
   "source": [
    "# let's plot the test_accuracy with the value of k in k-fold\n",
    "\n",
    "plt.plot(count,test_score)\n",
    "plt.xlabel('Value of K for k-fold')\n",
    "plt.ylabel('test accuracy')\n",
    "plt.xticks(np.arange(0, 12, 1)) \n",
    "plt.yticks(np.arange(0.65, 1, 0.05)) \n"
   ]
  },
  {
   "cell_type": "code",
   "execution_count": 28,
   "metadata": {},
   "outputs": [
    {
     "data": {
      "text/plain": [
       "0    86\n",
       "1    51\n",
       "Name: Approved, dtype: int64"
      ]
     },
     "execution_count": 28,
     "metadata": {},
     "output_type": "execute_result"
    }
   ],
   "source": [
    "y_test.value_counts()"
   ]
  },
  {
   "cell_type": "code",
   "execution_count": 29,
   "metadata": {},
   "outputs": [
    {
     "data": {
      "text/plain": [
       "(137,)"
      ]
     },
     "execution_count": 29,
     "metadata": {},
     "output_type": "execute_result"
    }
   ],
   "source": [
    "y_test.shape\n"
   ]
  },
  {
   "cell_type": "code",
   "execution_count": 30,
   "metadata": {
    "scrolled": true
   },
   "outputs": [
    {
     "name": "stdout",
     "output_type": "stream",
     "text": [
      "0.8832116788321168\n",
      "\n",
      "\n",
      "[[85  1]\n",
      " [15 36]]\n",
      "\n",
      "\n",
      "              precision    recall  f1-score   support\n",
      "\n",
      "           0       0.85      0.99      0.91        86\n",
      "           1       0.97      0.71      0.82        51\n",
      "\n",
      "    accuracy                           0.88       137\n",
      "   macro avg       0.91      0.85      0.87       137\n",
      "weighted avg       0.90      0.88      0.88       137\n",
      "\n"
     ]
    }
   ],
   "source": [
    "knn = KNeighborsClassifier(n_neighbors=3)\n",
    "\n",
    "knn.fit(X_train,y_train)\n",
    "pred = knn.predict(X_test)\n",
    "\n",
    "# print('WITH K=8')\n",
    "print(accuracy_score(y_test,pred))\n",
    "print('\\n')\n",
    "print(confusion_matrix(y_test,pred))\n",
    "print('\\n')\n",
    "print(classification_report(y_test,pred))\n"
   ]
  },
  {
   "cell_type": "code",
   "execution_count": 31,
   "metadata": {},
   "outputs": [
    {
     "data": {
      "text/plain": [
       "0.8471272229822162"
      ]
     },
     "execution_count": 31,
     "metadata": {},
     "output_type": "execute_result"
    }
   ],
   "source": [
    "# Area Under Curve\n",
    "auc = roc_auc_score(y_test, pred)\n",
    "auc"
   ]
  },
  {
   "cell_type": "code",
   "execution_count": 32,
   "metadata": {},
   "outputs": [],
   "source": [
    "fpr, tpr, thresholds = roc_curve(y_test, pred)"
   ]
  },
  {
   "cell_type": "code",
   "execution_count": 33,
   "metadata": {},
   "outputs": [
    {
     "data": {
      "image/png": "[encoded data removed]",
      "text/plain": [
       "<Figure size 432x288 with 1 Axes>"
      ]
     },
     "metadata": {
      "needs_background": "light"
     },
     "output_type": "display_data"
    }
   ],
   "source": [
    "plt.plot(fpr, tpr, color='orange', label='ROC')\n",
    "plt.plot([0, 1], [0, 1], color='darkblue', linestyle='--',label='ROC curve (area = %0.2f)' % auc)\n",
    "plt.xlabel('False Positive Rate')\n",
    "plt.ylabel('True Positive Rate')\n",
    "plt.title('Receiver Operating Characteristic (ROC) Curve for Naive Bayes')\n",
    "plt.legend()\n",
    "plt.show()"
   ]
  },
  {
   "cell_type": "code",
   "execution_count": 34,
   "metadata": {},
   "outputs": [],
   "source": [
    "import pickle\n",
    "\n",
    " # save the model to disk\n",
    "filename = 'finalized_model_knn.sav'\n",
    "pickle.dump(knn, open(filename, 'wb'))\n",
    "\n",
    "# load the model from disk\n",
    "loaded_model = pickle.load(open(filename, 'rb'))\n",
    "\n"
   ]
  },
  {
   "cell_type": "code",
   "execution_count": null,
   "metadata": {},
   "outputs": [],
   "source": [
    "\n"
   ]
  }
 ],
 "metadata": {
  "kernelspec": {
   "display_name": "Python 3",
   "language": "python",
   "name": "python3"
  },
  "language_info": {
   "codemirror_mode": {
    "name": "ipython",
    "version": 3
   },
   "file_extension": ".py",
   "mimetype": "text/x-python",
   "name": "python",
   "nbconvert_exporter": "python",
   "pygments_lexer": "ipython3",
   "version": "3.7.6"
  }
 },
 "nbformat": 4,
 "nbformat_minor": 4
}
