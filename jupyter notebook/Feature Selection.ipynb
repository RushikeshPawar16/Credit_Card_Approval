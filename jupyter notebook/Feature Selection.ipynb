{
 "cells": [
  {
   "cell_type": "code",
   "execution_count": 39,
   "metadata": {},
   "outputs": [
    {
     "data": {
      "text/html": [
       "<div>\n",
       "<style scoped>\n",
       "    .dataframe tbody tr th:only-of-type {\n",
       "        vertical-align: middle;\n",
       "    }\n",
       "\n",
       "    .dataframe tbody tr th {\n",
       "        vertical-align: top;\n",
       "    }\n",
       "\n",
       "    .dataframe thead th {\n",
       "        text-align: right;\n",
       "    }\n",
       "</style>\n",
       "<table border=\"1\" class=\"dataframe\">\n",
       "  <thead>\n",
       "    <tr style=\"text-align: right;\">\n",
       "      <th></th>\n",
       "      <th>Gender_b</th>\n",
       "      <th>Married_l</th>\n",
       "      <th>Married_u</th>\n",
       "      <th>Married_y</th>\n",
       "      <th>BankCustomer_g</th>\n",
       "      <th>BankCustomer_gg</th>\n",
       "      <th>BankCustomer_p</th>\n",
       "      <th>PriorDefault_t</th>\n",
       "      <th>Employed_t</th>\n",
       "      <th>DriversLicense_t</th>\n",
       "      <th>Citizen_p</th>\n",
       "      <th>Citizen_s</th>\n",
       "      <th>Age</th>\n",
       "      <th>Debt</th>\n",
       "      <th>EducationLevel</th>\n",
       "      <th>Ethnicity</th>\n",
       "      <th>YearsEmployed</th>\n",
       "      <th>CreditScore</th>\n",
       "      <th>Income</th>\n",
       "      <th>Approved</th>\n",
       "    </tr>\n",
       "  </thead>\n",
       "  <tbody>\n",
       "    <tr>\n",
       "      <th>0</th>\n",
       "      <td>0</td>\n",
       "      <td>0</td>\n",
       "      <td>1</td>\n",
       "      <td>0</td>\n",
       "      <td>1</td>\n",
       "      <td>0</td>\n",
       "      <td>0</td>\n",
       "      <td>1</td>\n",
       "      <td>1</td>\n",
       "      <td>0</td>\n",
       "      <td>0</td>\n",
       "      <td>0</td>\n",
       "      <td>58.67</td>\n",
       "      <td>4.460</td>\n",
       "      <td>0.653846</td>\n",
       "      <td>0.630435</td>\n",
       "      <td>3.04</td>\n",
       "      <td>6</td>\n",
       "      <td>560</td>\n",
       "      <td>1</td>\n",
       "    </tr>\n",
       "    <tr>\n",
       "      <th>1</th>\n",
       "      <td>0</td>\n",
       "      <td>0</td>\n",
       "      <td>1</td>\n",
       "      <td>0</td>\n",
       "      <td>1</td>\n",
       "      <td>0</td>\n",
       "      <td>0</td>\n",
       "      <td>1</td>\n",
       "      <td>0</td>\n",
       "      <td>0</td>\n",
       "      <td>0</td>\n",
       "      <td>0</td>\n",
       "      <td>24.50</td>\n",
       "      <td>0.500</td>\n",
       "      <td>0.653846</td>\n",
       "      <td>0.630435</td>\n",
       "      <td>1.50</td>\n",
       "      <td>0</td>\n",
       "      <td>824</td>\n",
       "      <td>1</td>\n",
       "    </tr>\n",
       "    <tr>\n",
       "      <th>2</th>\n",
       "      <td>1</td>\n",
       "      <td>0</td>\n",
       "      <td>1</td>\n",
       "      <td>0</td>\n",
       "      <td>1</td>\n",
       "      <td>0</td>\n",
       "      <td>0</td>\n",
       "      <td>1</td>\n",
       "      <td>1</td>\n",
       "      <td>1</td>\n",
       "      <td>0</td>\n",
       "      <td>0</td>\n",
       "      <td>27.83</td>\n",
       "      <td>1.540</td>\n",
       "      <td>0.507937</td>\n",
       "      <td>0.422111</td>\n",
       "      <td>3.75</td>\n",
       "      <td>5</td>\n",
       "      <td>3</td>\n",
       "      <td>1</td>\n",
       "    </tr>\n",
       "    <tr>\n",
       "      <th>3</th>\n",
       "      <td>1</td>\n",
       "      <td>0</td>\n",
       "      <td>1</td>\n",
       "      <td>0</td>\n",
       "      <td>1</td>\n",
       "      <td>0</td>\n",
       "      <td>0</td>\n",
       "      <td>1</td>\n",
       "      <td>0</td>\n",
       "      <td>0</td>\n",
       "      <td>0</td>\n",
       "      <td>1</td>\n",
       "      <td>20.17</td>\n",
       "      <td>5.625</td>\n",
       "      <td>0.507937</td>\n",
       "      <td>0.422111</td>\n",
       "      <td>1.71</td>\n",
       "      <td>0</td>\n",
       "      <td>0</td>\n",
       "      <td>1</td>\n",
       "    </tr>\n",
       "    <tr>\n",
       "      <th>4</th>\n",
       "      <td>1</td>\n",
       "      <td>0</td>\n",
       "      <td>1</td>\n",
       "      <td>0</td>\n",
       "      <td>1</td>\n",
       "      <td>0</td>\n",
       "      <td>0</td>\n",
       "      <td>1</td>\n",
       "      <td>0</td>\n",
       "      <td>1</td>\n",
       "      <td>0</td>\n",
       "      <td>0</td>\n",
       "      <td>32.08</td>\n",
       "      <td>4.000</td>\n",
       "      <td>0.421053</td>\n",
       "      <td>0.422111</td>\n",
       "      <td>2.50</td>\n",
       "      <td>0</td>\n",
       "      <td>0</td>\n",
       "      <td>1</td>\n",
       "    </tr>\n",
       "  </tbody>\n",
       "</table>\n",
       "</div>"
      ],
      "text/plain": [
       "   Gender_b  Married_l  Married_u  Married_y  BankCustomer_g  BankCustomer_gg  \\\n",
       "0         0          0          1          0               1                0   \n",
       "1         0          0          1          0               1                0   \n",
       "2         1          0          1          0               1                0   \n",
       "3         1          0          1          0               1                0   \n",
       "4         1          0          1          0               1                0   \n",
       "\n",
       "   BankCustomer_p  PriorDefault_t  Employed_t  DriversLicense_t  Citizen_p  \\\n",
       "0               0               1           1                 0          0   \n",
       "1               0               1           0                 0          0   \n",
       "2               0               1           1                 1          0   \n",
       "3               0               1           0                 0          0   \n",
       "4               0               1           0                 1          0   \n",
       "\n",
       "   Citizen_s    Age   Debt  EducationLevel  Ethnicity  YearsEmployed  \\\n",
       "0          0  58.67  4.460        0.653846   0.630435           3.04   \n",
       "1          0  24.50  0.500        0.653846   0.630435           1.50   \n",
       "2          0  27.83  1.540        0.507937   0.422111           3.75   \n",
       "3          1  20.17  5.625        0.507937   0.422111           1.71   \n",
       "4          0  32.08  4.000        0.421053   0.422111           2.50   \n",
       "\n",
       "   CreditScore  Income  Approved  \n",
       "0            6     560         1  \n",
       "1            0     824         1  \n",
       "2            5       3         1  \n",
       "3            0       0         1  \n",
       "4            0       0         1  "
      ]
     },
     "execution_count": 39,
     "metadata": {},
     "output_type": "execute_result"
    }
   ],
   "source": [
    "import pandas as pd\n",
    "import numpy as np \n",
    "import matplotlib.pyplot as plt\n",
    "import seaborn as sns\n",
    "df=pd.read_csv('encode.csv')\n",
    "df.head()"
   ]
  },
  {
   "cell_type": "code",
   "execution_count": 2,
   "metadata": {},
   "outputs": [],
   "source": [
    "# df['Citizen'].unique()"
   ]
  },
  {
   "cell_type": "code",
   "execution_count": 3,
   "metadata": {},
   "outputs": [
    {
     "data": {
      "text/html": [
       "<div>\n",
       "<style scoped>\n",
       "    .dataframe tbody tr th:only-of-type {\n",
       "        vertical-align: middle;\n",
       "    }\n",
       "\n",
       "    .dataframe tbody tr th {\n",
       "        vertical-align: top;\n",
       "    }\n",
       "\n",
       "    .dataframe thead th {\n",
       "        text-align: right;\n",
       "    }\n",
       "</style>\n",
       "<table border=\"1\" class=\"dataframe\">\n",
       "  <thead>\n",
       "    <tr style=\"text-align: right;\">\n",
       "      <th></th>\n",
       "      <th>Gender_b</th>\n",
       "      <th>Married_l</th>\n",
       "      <th>Married_u</th>\n",
       "      <th>Married_y</th>\n",
       "      <th>BankCustomer_g</th>\n",
       "      <th>BankCustomer_gg</th>\n",
       "      <th>BankCustomer_p</th>\n",
       "      <th>PriorDefault_t</th>\n",
       "      <th>Employed_t</th>\n",
       "      <th>DriversLicense_t</th>\n",
       "      <th>Citizen_p</th>\n",
       "      <th>Citizen_s</th>\n",
       "      <th>Age</th>\n",
       "      <th>Debt</th>\n",
       "      <th>EducationLevel</th>\n",
       "      <th>Ethnicity</th>\n",
       "      <th>YearsEmployed</th>\n",
       "      <th>CreditScore</th>\n",
       "      <th>Income</th>\n",
       "      <th>Approved</th>\n",
       "    </tr>\n",
       "  </thead>\n",
       "  <tbody>\n",
       "    <tr>\n",
       "      <th>0</th>\n",
       "      <td>0</td>\n",
       "      <td>0</td>\n",
       "      <td>1</td>\n",
       "      <td>0</td>\n",
       "      <td>1</td>\n",
       "      <td>0</td>\n",
       "      <td>0</td>\n",
       "      <td>1</td>\n",
       "      <td>1</td>\n",
       "      <td>0</td>\n",
       "      <td>0</td>\n",
       "      <td>0</td>\n",
       "      <td>58.67</td>\n",
       "      <td>4.460</td>\n",
       "      <td>0.653846</td>\n",
       "      <td>0.630435</td>\n",
       "      <td>3.04</td>\n",
       "      <td>6</td>\n",
       "      <td>560.000000</td>\n",
       "      <td>1</td>\n",
       "    </tr>\n",
       "    <tr>\n",
       "      <th>1</th>\n",
       "      <td>0</td>\n",
       "      <td>0</td>\n",
       "      <td>1</td>\n",
       "      <td>0</td>\n",
       "      <td>1</td>\n",
       "      <td>0</td>\n",
       "      <td>0</td>\n",
       "      <td>1</td>\n",
       "      <td>0</td>\n",
       "      <td>0</td>\n",
       "      <td>0</td>\n",
       "      <td>0</td>\n",
       "      <td>24.50</td>\n",
       "      <td>0.500</td>\n",
       "      <td>0.653846</td>\n",
       "      <td>0.630435</td>\n",
       "      <td>1.50</td>\n",
       "      <td>0</td>\n",
       "      <td>824.000000</td>\n",
       "      <td>1</td>\n",
       "    </tr>\n",
       "    <tr>\n",
       "      <th>2</th>\n",
       "      <td>1</td>\n",
       "      <td>0</td>\n",
       "      <td>1</td>\n",
       "      <td>0</td>\n",
       "      <td>1</td>\n",
       "      <td>0</td>\n",
       "      <td>0</td>\n",
       "      <td>1</td>\n",
       "      <td>1</td>\n",
       "      <td>1</td>\n",
       "      <td>0</td>\n",
       "      <td>0</td>\n",
       "      <td>27.83</td>\n",
       "      <td>1.540</td>\n",
       "      <td>0.507937</td>\n",
       "      <td>0.422111</td>\n",
       "      <td>3.75</td>\n",
       "      <td>5</td>\n",
       "      <td>3.000000</td>\n",
       "      <td>1</td>\n",
       "    </tr>\n",
       "    <tr>\n",
       "      <th>3</th>\n",
       "      <td>1</td>\n",
       "      <td>0</td>\n",
       "      <td>1</td>\n",
       "      <td>0</td>\n",
       "      <td>1</td>\n",
       "      <td>0</td>\n",
       "      <td>0</td>\n",
       "      <td>1</td>\n",
       "      <td>0</td>\n",
       "      <td>0</td>\n",
       "      <td>0</td>\n",
       "      <td>1</td>\n",
       "      <td>20.17</td>\n",
       "      <td>5.625</td>\n",
       "      <td>0.507937</td>\n",
       "      <td>0.422111</td>\n",
       "      <td>1.71</td>\n",
       "      <td>0</td>\n",
       "      <td>322.159652</td>\n",
       "      <td>1</td>\n",
       "    </tr>\n",
       "    <tr>\n",
       "      <th>4</th>\n",
       "      <td>1</td>\n",
       "      <td>0</td>\n",
       "      <td>1</td>\n",
       "      <td>0</td>\n",
       "      <td>1</td>\n",
       "      <td>0</td>\n",
       "      <td>0</td>\n",
       "      <td>1</td>\n",
       "      <td>0</td>\n",
       "      <td>1</td>\n",
       "      <td>0</td>\n",
       "      <td>0</td>\n",
       "      <td>32.08</td>\n",
       "      <td>4.000</td>\n",
       "      <td>0.421053</td>\n",
       "      <td>0.422111</td>\n",
       "      <td>2.50</td>\n",
       "      <td>0</td>\n",
       "      <td>322.159652</td>\n",
       "      <td>1</td>\n",
       "    </tr>\n",
       "  </tbody>\n",
       "</table>\n",
       "</div>"
      ],
      "text/plain": [
       "   Gender_b  Married_l  Married_u  Married_y  BankCustomer_g  BankCustomer_gg  \\\n",
       "0         0          0          1          0               1                0   \n",
       "1         0          0          1          0               1                0   \n",
       "2         1          0          1          0               1                0   \n",
       "3         1          0          1          0               1                0   \n",
       "4         1          0          1          0               1                0   \n",
       "\n",
       "   BankCustomer_p  PriorDefault_t  Employed_t  DriversLicense_t  Citizen_p  \\\n",
       "0               0               1           1                 0          0   \n",
       "1               0               1           0                 0          0   \n",
       "2               0               1           1                 1          0   \n",
       "3               0               1           0                 0          0   \n",
       "4               0               1           0                 1          0   \n",
       "\n",
       "   Citizen_s    Age   Debt  EducationLevel  Ethnicity  YearsEmployed  \\\n",
       "0          0  58.67  4.460        0.653846   0.630435           3.04   \n",
       "1          0  24.50  0.500        0.653846   0.630435           1.50   \n",
       "2          0  27.83  1.540        0.507937   0.422111           3.75   \n",
       "3          1  20.17  5.625        0.507937   0.422111           1.71   \n",
       "4          0  32.08  4.000        0.421053   0.422111           2.50   \n",
       "\n",
       "   CreditScore      Income  Approved  \n",
       "0            6  560.000000         1  \n",
       "1            0  824.000000         1  \n",
       "2            5    3.000000         1  \n",
       "3            0  322.159652         1  \n",
       "4            0  322.159652         1  "
      ]
     },
     "execution_count": 3,
     "metadata": {},
     "output_type": "execute_result"
    }
   ],
   "source": [
    "import numpy as np\n",
    "df['Income']=np.where(df['Income']==0,df['Income'].mean(),df['Income'])\n",
    "df.head()"
   ]
  },
  {
   "cell_type": "code",
   "execution_count": 40,
   "metadata": {},
   "outputs": [
    {
     "data": {
      "text/plain": [
       "array([ 6,  0,  5,  7, 10,  3, 12,  1,  2,  9,  8, 11,  4], dtype=int64)"
      ]
     },
     "execution_count": 40,
     "metadata": {},
     "output_type": "execute_result"
    }
   ],
   "source": [
    "df['CreditScore'].unique()"
   ]
  },
  {
   "cell_type": "code",
   "execution_count": 42,
   "metadata": {},
   "outputs": [
    {
     "data": {
      "text/html": [
       "<div>\n",
       "<style scoped>\n",
       "    .dataframe tbody tr th:only-of-type {\n",
       "        vertical-align: middle;\n",
       "    }\n",
       "\n",
       "    .dataframe tbody tr th {\n",
       "        vertical-align: top;\n",
       "    }\n",
       "\n",
       "    .dataframe thead th {\n",
       "        text-align: right;\n",
       "    }\n",
       "</style>\n",
       "<table border=\"1\" class=\"dataframe\">\n",
       "  <thead>\n",
       "    <tr style=\"text-align: right;\">\n",
       "      <th></th>\n",
       "      <th>Gender_b</th>\n",
       "      <th>Married_l</th>\n",
       "      <th>Married_u</th>\n",
       "      <th>Married_y</th>\n",
       "      <th>BankCustomer_g</th>\n",
       "      <th>BankCustomer_gg</th>\n",
       "      <th>BankCustomer_p</th>\n",
       "      <th>PriorDefault_t</th>\n",
       "      <th>Employed_t</th>\n",
       "      <th>DriversLicense_t</th>\n",
       "      <th>Citizen_p</th>\n",
       "      <th>Citizen_s</th>\n",
       "      <th>Age</th>\n",
       "      <th>Debt</th>\n",
       "      <th>EducationLevel</th>\n",
       "      <th>Ethnicity</th>\n",
       "      <th>YearsEmployed</th>\n",
       "      <th>CreditScore</th>\n",
       "      <th>Income</th>\n",
       "      <th>Approved</th>\n",
       "    </tr>\n",
       "  </thead>\n",
       "  <tbody>\n",
       "    <tr>\n",
       "      <th>0</th>\n",
       "      <td>0</td>\n",
       "      <td>0</td>\n",
       "      <td>1</td>\n",
       "      <td>0</td>\n",
       "      <td>1</td>\n",
       "      <td>0</td>\n",
       "      <td>0</td>\n",
       "      <td>1</td>\n",
       "      <td>1</td>\n",
       "      <td>0</td>\n",
       "      <td>0</td>\n",
       "      <td>0</td>\n",
       "      <td>58.67</td>\n",
       "      <td>4.460</td>\n",
       "      <td>0.653846</td>\n",
       "      <td>0.630435</td>\n",
       "      <td>3.04</td>\n",
       "      <td>6.0000</td>\n",
       "      <td>560</td>\n",
       "      <td>1</td>\n",
       "    </tr>\n",
       "    <tr>\n",
       "      <th>1</th>\n",
       "      <td>0</td>\n",
       "      <td>0</td>\n",
       "      <td>1</td>\n",
       "      <td>0</td>\n",
       "      <td>1</td>\n",
       "      <td>0</td>\n",
       "      <td>0</td>\n",
       "      <td>1</td>\n",
       "      <td>0</td>\n",
       "      <td>0</td>\n",
       "      <td>0</td>\n",
       "      <td>0</td>\n",
       "      <td>24.50</td>\n",
       "      <td>0.500</td>\n",
       "      <td>0.653846</td>\n",
       "      <td>0.630435</td>\n",
       "      <td>1.50</td>\n",
       "      <td>2.1582</td>\n",
       "      <td>824</td>\n",
       "      <td>1</td>\n",
       "    </tr>\n",
       "    <tr>\n",
       "      <th>2</th>\n",
       "      <td>1</td>\n",
       "      <td>0</td>\n",
       "      <td>1</td>\n",
       "      <td>0</td>\n",
       "      <td>1</td>\n",
       "      <td>0</td>\n",
       "      <td>0</td>\n",
       "      <td>1</td>\n",
       "      <td>1</td>\n",
       "      <td>1</td>\n",
       "      <td>0</td>\n",
       "      <td>0</td>\n",
       "      <td>27.83</td>\n",
       "      <td>1.540</td>\n",
       "      <td>0.507937</td>\n",
       "      <td>0.422111</td>\n",
       "      <td>3.75</td>\n",
       "      <td>5.0000</td>\n",
       "      <td>3</td>\n",
       "      <td>1</td>\n",
       "    </tr>\n",
       "    <tr>\n",
       "      <th>3</th>\n",
       "      <td>1</td>\n",
       "      <td>0</td>\n",
       "      <td>1</td>\n",
       "      <td>0</td>\n",
       "      <td>1</td>\n",
       "      <td>0</td>\n",
       "      <td>0</td>\n",
       "      <td>1</td>\n",
       "      <td>0</td>\n",
       "      <td>0</td>\n",
       "      <td>0</td>\n",
       "      <td>1</td>\n",
       "      <td>20.17</td>\n",
       "      <td>5.625</td>\n",
       "      <td>0.507937</td>\n",
       "      <td>0.422111</td>\n",
       "      <td>1.71</td>\n",
       "      <td>2.1582</td>\n",
       "      <td>0</td>\n",
       "      <td>1</td>\n",
       "    </tr>\n",
       "    <tr>\n",
       "      <th>4</th>\n",
       "      <td>1</td>\n",
       "      <td>0</td>\n",
       "      <td>1</td>\n",
       "      <td>0</td>\n",
       "      <td>1</td>\n",
       "      <td>0</td>\n",
       "      <td>0</td>\n",
       "      <td>1</td>\n",
       "      <td>0</td>\n",
       "      <td>1</td>\n",
       "      <td>0</td>\n",
       "      <td>0</td>\n",
       "      <td>32.08</td>\n",
       "      <td>4.000</td>\n",
       "      <td>0.421053</td>\n",
       "      <td>0.422111</td>\n",
       "      <td>2.50</td>\n",
       "      <td>2.1582</td>\n",
       "      <td>0</td>\n",
       "      <td>1</td>\n",
       "    </tr>\n",
       "  </tbody>\n",
       "</table>\n",
       "</div>"
      ],
      "text/plain": [
       "   Gender_b  Married_l  Married_u  Married_y  BankCustomer_g  BankCustomer_gg  \\\n",
       "0         0          0          1          0               1                0   \n",
       "1         0          0          1          0               1                0   \n",
       "2         1          0          1          0               1                0   \n",
       "3         1          0          1          0               1                0   \n",
       "4         1          0          1          0               1                0   \n",
       "\n",
       "   BankCustomer_p  PriorDefault_t  Employed_t  DriversLicense_t  Citizen_p  \\\n",
       "0               0               1           1                 0          0   \n",
       "1               0               1           0                 0          0   \n",
       "2               0               1           1                 1          0   \n",
       "3               0               1           0                 0          0   \n",
       "4               0               1           0                 1          0   \n",
       "\n",
       "   Citizen_s    Age   Debt  EducationLevel  Ethnicity  YearsEmployed  \\\n",
       "0          0  58.67  4.460        0.653846   0.630435           3.04   \n",
       "1          0  24.50  0.500        0.653846   0.630435           1.50   \n",
       "2          0  27.83  1.540        0.507937   0.422111           3.75   \n",
       "3          1  20.17  5.625        0.507937   0.422111           1.71   \n",
       "4          0  32.08  4.000        0.421053   0.422111           2.50   \n",
       "\n",
       "   CreditScore  Income  Approved  \n",
       "0       6.0000     560         1  \n",
       "1       2.1582     824         1  \n",
       "2       5.0000       3         1  \n",
       "3       2.1582       0         1  \n",
       "4       2.1582       0         1  "
      ]
     },
     "execution_count": 42,
     "metadata": {},
     "output_type": "execute_result"
    }
   ],
   "source": [
    "df['CreditScore']=np.where(df['CreditScore']==0,df['CreditScore'].mean(),df['CreditScore'])\n",
    "df.head()"
   ]
  },
  {
   "cell_type": "code",
   "execution_count": 44,
   "metadata": {},
   "outputs": [
    {
     "data": {
      "text/plain": [
       "1.0"
      ]
     },
     "execution_count": 44,
     "metadata": {},
     "output_type": "execute_result"
    }
   ],
   "source": [
    "df['CreditScore'].max()\n",
    "df['CreditScore'].min()"
   ]
  },
  {
   "cell_type": "code",
   "execution_count": 4,
   "metadata": {},
   "outputs": [
    {
     "data": {
      "text/plain": [
       "(689, 20)"
      ]
     },
     "execution_count": 4,
     "metadata": {},
     "output_type": "execute_result"
    }
   ],
   "source": [
    "df.shape"
   ]
  },
  {
   "cell_type": "code",
   "execution_count": 5,
   "metadata": {},
   "outputs": [],
   "source": [
    "X=df.iloc[:,:-1]\n",
    "y=df['Approved']"
   ]
  },
  {
   "cell_type": "code",
   "execution_count": 6,
   "metadata": {},
   "outputs": [
    {
     "data": {
      "text/plain": [
       "numpy.ndarray"
      ]
     },
     "execution_count": 6,
     "metadata": {},
     "output_type": "execute_result"
    }
   ],
   "source": [
    "type(df.iloc[:,:-1].values)"
   ]
  },
  {
   "cell_type": "code",
   "execution_count": 7,
   "metadata": {},
   "outputs": [],
   "source": [
    "# # let's see how data is distributed for every column\n",
    "# plt.figure(figsize=(20,25), facecolor='white')\n",
    "# plotnumber = 1\n",
    "\n",
    "# for column in X:\n",
    "#     if plotnumber<=16 :\n",
    "#         ax = plt.subplot(5,4,plotnumber)\n",
    "#         sns.stripplot(y,X[column])\n",
    "#     plotnumber+=1\n",
    "# plt.tight_layout()"
   ]
  },
  {
   "cell_type": "code",
   "execution_count": 8,
   "metadata": {},
   "outputs": [
    {
     "data": {
      "text/html": [
       "<div>\n",
       "<style scoped>\n",
       "    .dataframe tbody tr th:only-of-type {\n",
       "        vertical-align: middle;\n",
       "    }\n",
       "\n",
       "    .dataframe tbody tr th {\n",
       "        vertical-align: top;\n",
       "    }\n",
       "\n",
       "    .dataframe thead th {\n",
       "        text-align: right;\n",
       "    }\n",
       "</style>\n",
       "<table border=\"1\" class=\"dataframe\">\n",
       "  <thead>\n",
       "    <tr style=\"text-align: right;\">\n",
       "      <th></th>\n",
       "      <th>Gender_b</th>\n",
       "      <th>Married_l</th>\n",
       "      <th>Married_u</th>\n",
       "      <th>Married_y</th>\n",
       "      <th>BankCustomer_g</th>\n",
       "      <th>BankCustomer_gg</th>\n",
       "      <th>BankCustomer_p</th>\n",
       "      <th>PriorDefault_t</th>\n",
       "      <th>Employed_t</th>\n",
       "      <th>DriversLicense_t</th>\n",
       "      <th>Citizen_p</th>\n",
       "      <th>Citizen_s</th>\n",
       "      <th>Age</th>\n",
       "      <th>Debt</th>\n",
       "      <th>EducationLevel</th>\n",
       "      <th>Ethnicity</th>\n",
       "      <th>YearsEmployed</th>\n",
       "      <th>CreditScore</th>\n",
       "      <th>Income</th>\n",
       "    </tr>\n",
       "  </thead>\n",
       "  <tbody>\n",
       "    <tr>\n",
       "      <th>0</th>\n",
       "      <td>0</td>\n",
       "      <td>0</td>\n",
       "      <td>1</td>\n",
       "      <td>0</td>\n",
       "      <td>1</td>\n",
       "      <td>0</td>\n",
       "      <td>0</td>\n",
       "      <td>1</td>\n",
       "      <td>1</td>\n",
       "      <td>0</td>\n",
       "      <td>0</td>\n",
       "      <td>0</td>\n",
       "      <td>58.67</td>\n",
       "      <td>4.460</td>\n",
       "      <td>0.653846</td>\n",
       "      <td>0.630435</td>\n",
       "      <td>3.04</td>\n",
       "      <td>6</td>\n",
       "      <td>560.000000</td>\n",
       "    </tr>\n",
       "    <tr>\n",
       "      <th>1</th>\n",
       "      <td>0</td>\n",
       "      <td>0</td>\n",
       "      <td>1</td>\n",
       "      <td>0</td>\n",
       "      <td>1</td>\n",
       "      <td>0</td>\n",
       "      <td>0</td>\n",
       "      <td>1</td>\n",
       "      <td>0</td>\n",
       "      <td>0</td>\n",
       "      <td>0</td>\n",
       "      <td>0</td>\n",
       "      <td>24.50</td>\n",
       "      <td>0.500</td>\n",
       "      <td>0.653846</td>\n",
       "      <td>0.630435</td>\n",
       "      <td>1.50</td>\n",
       "      <td>0</td>\n",
       "      <td>824.000000</td>\n",
       "    </tr>\n",
       "    <tr>\n",
       "      <th>2</th>\n",
       "      <td>1</td>\n",
       "      <td>0</td>\n",
       "      <td>1</td>\n",
       "      <td>0</td>\n",
       "      <td>1</td>\n",
       "      <td>0</td>\n",
       "      <td>0</td>\n",
       "      <td>1</td>\n",
       "      <td>1</td>\n",
       "      <td>1</td>\n",
       "      <td>0</td>\n",
       "      <td>0</td>\n",
       "      <td>27.83</td>\n",
       "      <td>1.540</td>\n",
       "      <td>0.507937</td>\n",
       "      <td>0.422111</td>\n",
       "      <td>3.75</td>\n",
       "      <td>5</td>\n",
       "      <td>3.000000</td>\n",
       "    </tr>\n",
       "    <tr>\n",
       "      <th>3</th>\n",
       "      <td>1</td>\n",
       "      <td>0</td>\n",
       "      <td>1</td>\n",
       "      <td>0</td>\n",
       "      <td>1</td>\n",
       "      <td>0</td>\n",
       "      <td>0</td>\n",
       "      <td>1</td>\n",
       "      <td>0</td>\n",
       "      <td>0</td>\n",
       "      <td>0</td>\n",
       "      <td>1</td>\n",
       "      <td>20.17</td>\n",
       "      <td>5.625</td>\n",
       "      <td>0.507937</td>\n",
       "      <td>0.422111</td>\n",
       "      <td>1.71</td>\n",
       "      <td>0</td>\n",
       "      <td>322.159652</td>\n",
       "    </tr>\n",
       "    <tr>\n",
       "      <th>4</th>\n",
       "      <td>1</td>\n",
       "      <td>0</td>\n",
       "      <td>1</td>\n",
       "      <td>0</td>\n",
       "      <td>1</td>\n",
       "      <td>0</td>\n",
       "      <td>0</td>\n",
       "      <td>1</td>\n",
       "      <td>0</td>\n",
       "      <td>1</td>\n",
       "      <td>0</td>\n",
       "      <td>0</td>\n",
       "      <td>32.08</td>\n",
       "      <td>4.000</td>\n",
       "      <td>0.421053</td>\n",
       "      <td>0.422111</td>\n",
       "      <td>2.50</td>\n",
       "      <td>0</td>\n",
       "      <td>322.159652</td>\n",
       "    </tr>\n",
       "  </tbody>\n",
       "</table>\n",
       "</div>"
      ],
      "text/plain": [
       "   Gender_b  Married_l  Married_u  Married_y  BankCustomer_g  BankCustomer_gg  \\\n",
       "0         0          0          1          0               1                0   \n",
       "1         0          0          1          0               1                0   \n",
       "2         1          0          1          0               1                0   \n",
       "3         1          0          1          0               1                0   \n",
       "4         1          0          1          0               1                0   \n",
       "\n",
       "   BankCustomer_p  PriorDefault_t  Employed_t  DriversLicense_t  Citizen_p  \\\n",
       "0               0               1           1                 0          0   \n",
       "1               0               1           0                 0          0   \n",
       "2               0               1           1                 1          0   \n",
       "3               0               1           0                 0          0   \n",
       "4               0               1           0                 1          0   \n",
       "\n",
       "   Citizen_s    Age   Debt  EducationLevel  Ethnicity  YearsEmployed  \\\n",
       "0          0  58.67  4.460        0.653846   0.630435           3.04   \n",
       "1          0  24.50  0.500        0.653846   0.630435           1.50   \n",
       "2          0  27.83  1.540        0.507937   0.422111           3.75   \n",
       "3          1  20.17  5.625        0.507937   0.422111           1.71   \n",
       "4          0  32.08  4.000        0.421053   0.422111           2.50   \n",
       "\n",
       "   CreditScore      Income  \n",
       "0            6  560.000000  \n",
       "1            0  824.000000  \n",
       "2            5    3.000000  \n",
       "3            0  322.159652  \n",
       "4            0  322.159652  "
      ]
     },
     "execution_count": 8,
     "metadata": {},
     "output_type": "execute_result"
    }
   ],
   "source": [
    "X.head()"
   ]
  },
  {
   "cell_type": "code",
   "execution_count": 9,
   "metadata": {},
   "outputs": [
    {
     "data": {
      "text/plain": [
       "67.0"
      ]
     },
     "execution_count": 9,
     "metadata": {},
     "output_type": "execute_result"
    }
   ],
   "source": [
    "X['Age'].max()"
   ]
  },
  {
   "cell_type": "code",
   "execution_count": 10,
   "metadata": {},
   "outputs": [
    {
     "data": {
      "text/plain": [
       "13.75"
      ]
     },
     "execution_count": 10,
     "metadata": {},
     "output_type": "execute_result"
    }
   ],
   "source": [
    "X['Age'].min()"
   ]
  },
  {
   "cell_type": "code",
   "execution_count": 11,
   "metadata": {},
   "outputs": [
    {
     "data": {
      "text/plain": [
       "0    1\n",
       "1    1\n",
       "2    1\n",
       "3    1\n",
       "4    1\n",
       "Name: Approved, dtype: int64"
      ]
     },
     "execution_count": 11,
     "metadata": {},
     "output_type": "execute_result"
    }
   ],
   "source": [
    "y.head()"
   ]
  },
  {
   "cell_type": "markdown",
   "metadata": {},
   "source": [
    "# Univariate Selection\n"
   ]
  },
  {
   "cell_type": "code",
   "execution_count": 12,
   "metadata": {},
   "outputs": [],
   "source": [
    "from sklearn.feature_selection import SelectKBest\n",
    "from sklearn.feature_selection import chi2"
   ]
  },
  {
   "cell_type": "code",
   "execution_count": 13,
   "metadata": {},
   "outputs": [],
   "source": [
    "### Apply SelectKBest Algorithm\n",
    "ordered_rank_features=SelectKBest(score_func=chi2,k=15)\n",
    "ordered_feature=ordered_rank_features.fit(X,y)"
   ]
  },
  {
   "cell_type": "code",
   "execution_count": 14,
   "metadata": {},
   "outputs": [],
   "source": [
    "dfscores=pd.DataFrame(ordered_feature.scores_,columns=[\"Score\"])\n",
    "dfcolumns=pd.DataFrame(X.columns)"
   ]
  },
  {
   "cell_type": "code",
   "execution_count": 15,
   "metadata": {},
   "outputs": [],
   "source": [
    "features_rank=pd.concat([dfcolumns,dfscores],axis=1)"
   ]
  },
  {
   "cell_type": "code",
   "execution_count": 16,
   "metadata": {},
   "outputs": [
    {
     "data": {
      "text/html": [
       "<div>\n",
       "<style scoped>\n",
       "    .dataframe tbody tr th:only-of-type {\n",
       "        vertical-align: middle;\n",
       "    }\n",
       "\n",
       "    .dataframe tbody tr th {\n",
       "        vertical-align: top;\n",
       "    }\n",
       "\n",
       "    .dataframe thead th {\n",
       "        text-align: right;\n",
       "    }\n",
       "</style>\n",
       "<table border=\"1\" class=\"dataframe\">\n",
       "  <thead>\n",
       "    <tr style=\"text-align: right;\">\n",
       "      <th></th>\n",
       "      <th>Features</th>\n",
       "      <th>Score</th>\n",
       "    </tr>\n",
       "  </thead>\n",
       "  <tbody>\n",
       "    <tr>\n",
       "      <th>0</th>\n",
       "      <td>Gender_b</td>\n",
       "      <td>0.189545</td>\n",
       "    </tr>\n",
       "    <tr>\n",
       "      <th>1</th>\n",
       "      <td>Married_l</td>\n",
       "      <td>2.503268</td>\n",
       "    </tr>\n",
       "    <tr>\n",
       "      <th>2</th>\n",
       "      <td>Married_u</td>\n",
       "      <td>4.865755</td>\n",
       "    </tr>\n",
       "    <tr>\n",
       "      <th>3</th>\n",
       "      <td>Married_y</td>\n",
       "      <td>18.645502</td>\n",
       "    </tr>\n",
       "    <tr>\n",
       "      <th>4</th>\n",
       "      <td>BankCustomer_g</td>\n",
       "      <td>4.865755</td>\n",
       "    </tr>\n",
       "    <tr>\n",
       "      <th>5</th>\n",
       "      <td>BankCustomer_gg</td>\n",
       "      <td>2.503268</td>\n",
       "    </tr>\n",
       "    <tr>\n",
       "      <th>6</th>\n",
       "      <td>BankCustomer_p</td>\n",
       "      <td>18.645502</td>\n",
       "    </tr>\n",
       "    <tr>\n",
       "      <th>7</th>\n",
       "      <td>PriorDefault_t</td>\n",
       "      <td>170.547562</td>\n",
       "    </tr>\n",
       "    <tr>\n",
       "      <th>8</th>\n",
       "      <td>Employed_t</td>\n",
       "      <td>82.597852</td>\n",
       "    </tr>\n",
       "    <tr>\n",
       "      <th>9</th>\n",
       "      <td>DriversLicense_t</td>\n",
       "      <td>0.410276</td>\n",
       "    </tr>\n",
       "    <tr>\n",
       "      <th>10</th>\n",
       "      <td>Citizen_p</td>\n",
       "      <td>1.060181</td>\n",
       "    </tr>\n",
       "    <tr>\n",
       "      <th>11</th>\n",
       "      <td>Citizen_s</td>\n",
       "      <td>7.560971</td>\n",
       "    </tr>\n",
       "    <tr>\n",
       "      <th>12</th>\n",
       "      <td>Age</td>\n",
       "      <td>80.177612</td>\n",
       "    </tr>\n",
       "    <tr>\n",
       "      <th>13</th>\n",
       "      <td>Debt</td>\n",
       "      <td>154.329076</td>\n",
       "    </tr>\n",
       "    <tr>\n",
       "      <th>14</th>\n",
       "      <td>EducationLevel</td>\n",
       "      <td>7.760542</td>\n",
       "    </tr>\n",
       "    <tr>\n",
       "      <th>15</th>\n",
       "      <td>Ethnicity</td>\n",
       "      <td>1.644670</td>\n",
       "    </tr>\n",
       "    <tr>\n",
       "      <th>16</th>\n",
       "      <td>YearsEmployed</td>\n",
       "      <td>281.057866</td>\n",
       "    </tr>\n",
       "    <tr>\n",
       "      <th>17</th>\n",
       "      <td>CreditScore</td>\n",
       "      <td>1124.997978</td>\n",
       "    </tr>\n",
       "    <tr>\n",
       "      <th>18</th>\n",
       "      <td>Income</td>\n",
       "      <td>53050.921921</td>\n",
       "    </tr>\n",
       "  </tbody>\n",
       "</table>\n",
       "</div>"
      ],
      "text/plain": [
       "            Features         Score\n",
       "0           Gender_b      0.189545\n",
       "1          Married_l      2.503268\n",
       "2          Married_u      4.865755\n",
       "3          Married_y     18.645502\n",
       "4     BankCustomer_g      4.865755\n",
       "5    BankCustomer_gg      2.503268\n",
       "6     BankCustomer_p     18.645502\n",
       "7     PriorDefault_t    170.547562\n",
       "8         Employed_t     82.597852\n",
       "9   DriversLicense_t      0.410276\n",
       "10         Citizen_p      1.060181\n",
       "11         Citizen_s      7.560971\n",
       "12               Age     80.177612\n",
       "13              Debt    154.329076\n",
       "14    EducationLevel      7.760542\n",
       "15         Ethnicity      1.644670\n",
       "16     YearsEmployed    281.057866\n",
       "17       CreditScore   1124.997978\n",
       "18            Income  53050.921921"
      ]
     },
     "execution_count": 16,
     "metadata": {},
     "output_type": "execute_result"
    }
   ],
   "source": [
    "features_rank.columns=['Features','Score']\n",
    "features_rank"
   ]
  },
  {
   "cell_type": "code",
   "execution_count": 17,
   "metadata": {},
   "outputs": [
    {
     "data": {
      "text/html": [
       "<div>\n",
       "<style scoped>\n",
       "    .dataframe tbody tr th:only-of-type {\n",
       "        vertical-align: middle;\n",
       "    }\n",
       "\n",
       "    .dataframe tbody tr th {\n",
       "        vertical-align: top;\n",
       "    }\n",
       "\n",
       "    .dataframe thead th {\n",
       "        text-align: right;\n",
       "    }\n",
       "</style>\n",
       "<table border=\"1\" class=\"dataframe\">\n",
       "  <thead>\n",
       "    <tr style=\"text-align: right;\">\n",
       "      <th></th>\n",
       "      <th>Features</th>\n",
       "      <th>Score</th>\n",
       "    </tr>\n",
       "  </thead>\n",
       "  <tbody>\n",
       "    <tr>\n",
       "      <th>18</th>\n",
       "      <td>Income</td>\n",
       "      <td>53050.921921</td>\n",
       "    </tr>\n",
       "    <tr>\n",
       "      <th>17</th>\n",
       "      <td>CreditScore</td>\n",
       "      <td>1124.997978</td>\n",
       "    </tr>\n",
       "    <tr>\n",
       "      <th>16</th>\n",
       "      <td>YearsEmployed</td>\n",
       "      <td>281.057866</td>\n",
       "    </tr>\n",
       "    <tr>\n",
       "      <th>7</th>\n",
       "      <td>PriorDefault_t</td>\n",
       "      <td>170.547562</td>\n",
       "    </tr>\n",
       "    <tr>\n",
       "      <th>13</th>\n",
       "      <td>Debt</td>\n",
       "      <td>154.329076</td>\n",
       "    </tr>\n",
       "    <tr>\n",
       "      <th>8</th>\n",
       "      <td>Employed_t</td>\n",
       "      <td>82.597852</td>\n",
       "    </tr>\n",
       "    <tr>\n",
       "      <th>12</th>\n",
       "      <td>Age</td>\n",
       "      <td>80.177612</td>\n",
       "    </tr>\n",
       "    <tr>\n",
       "      <th>3</th>\n",
       "      <td>Married_y</td>\n",
       "      <td>18.645502</td>\n",
       "    </tr>\n",
       "    <tr>\n",
       "      <th>6</th>\n",
       "      <td>BankCustomer_p</td>\n",
       "      <td>18.645502</td>\n",
       "    </tr>\n",
       "    <tr>\n",
       "      <th>14</th>\n",
       "      <td>EducationLevel</td>\n",
       "      <td>7.760542</td>\n",
       "    </tr>\n",
       "  </tbody>\n",
       "</table>\n",
       "</div>"
      ],
      "text/plain": [
       "          Features         Score\n",
       "18          Income  53050.921921\n",
       "17     CreditScore   1124.997978\n",
       "16   YearsEmployed    281.057866\n",
       "7   PriorDefault_t    170.547562\n",
       "13            Debt    154.329076\n",
       "8       Employed_t     82.597852\n",
       "12             Age     80.177612\n",
       "3        Married_y     18.645502\n",
       "6   BankCustomer_p     18.645502\n",
       "14  EducationLevel      7.760542"
      ]
     },
     "execution_count": 17,
     "metadata": {},
     "output_type": "execute_result"
    }
   ],
   "source": [
    "features_rank.nlargest(10,'Score')"
   ]
  },
  {
   "cell_type": "code",
   "execution_count": 18,
   "metadata": {},
   "outputs": [],
   "source": [
    "#Age\tDebt\tEducationLevel\tYearsEmployed\tPriorDefault\tEmployed\tCreditScore\t\tCitizen\tZipCode\tIncome"
   ]
  },
  {
   "cell_type": "markdown",
   "metadata": {},
   "source": [
    "# Feature Importance\n"
   ]
  },
  {
   "cell_type": "code",
   "execution_count": 19,
   "metadata": {},
   "outputs": [
    {
     "data": {
      "text/plain": [
       "ExtraTreesClassifier()"
      ]
     },
     "execution_count": 19,
     "metadata": {},
     "output_type": "execute_result"
    }
   ],
   "source": [
    "from sklearn.ensemble import ExtraTreesClassifier\n",
    "import matplotlib.pyplot as plt\n",
    "model=ExtraTreesClassifier()\n",
    "model.fit(X,y)"
   ]
  },
  {
   "cell_type": "code",
   "execution_count": 20,
   "metadata": {},
   "outputs": [
    {
     "name": "stdout",
     "output_type": "stream",
     "text": [
      "[0.01851924 0.00187032 0.00605072 0.00936155 0.00815154 0.00235144\n",
      " 0.00881258 0.35286407 0.09479751 0.02280782 0.00462114 0.01408296\n",
      " 0.06874303 0.0661629  0.08091126 0.04238115 0.07817963 0.03539794\n",
      " 0.08393318]\n"
     ]
    }
   ],
   "source": [
    "print(model.feature_importances_)"
   ]
  },
  {
   "cell_type": "code",
   "execution_count": 21,
   "metadata": {},
   "outputs": [
    {
     "data": {
      "image/png": "[encoded data removed]",
      "text/plain": [
       "<Figure size 432x288 with 1 Axes>"
      ]
     },
     "metadata": {
      "needs_background": "light"
     },
     "output_type": "display_data"
    },
    {
     "name": "stdout",
     "output_type": "stream",
     "text": [
      "PriorDefault_t    0.352864\n",
      "Employed_t        0.094798\n",
      "Income            0.083933\n",
      "EducationLevel    0.080911\n",
      "YearsEmployed     0.078180\n",
      "Age               0.068743\n",
      "dtype: float64\n"
     ]
    }
   ],
   "source": [
    "ranked_features=pd.Series(model.feature_importances_,index=X.columns)\n",
    "lst=ranked_features.nlargest(10).plot(kind='barh')\n",
    "plt.show()\n",
    "lst=ranked_features.nlargest(6)\n",
    "print(lst)"
   ]
  },
  {
   "cell_type": "code",
   "execution_count": 22,
   "metadata": {},
   "outputs": [],
   "source": [
    "#Age\tDebt\tEducationLevel\tEthnicity\tYearsEmployed\tPriorDefault\tEmployed\tCreditScore\tZipCode\tIncome"
   ]
  },
  {
   "cell_type": "code",
   "execution_count": 23,
   "metadata": {},
   "outputs": [],
   "source": [
    "#Age\tDebt\tEducationLevel\tYearsEmployed\tPriorDefault\tEmployed\tCreditScore\t\tCitizen\tZipCode\tIncome"
   ]
  },
  {
   "cell_type": "code",
   "execution_count": 24,
   "metadata": {},
   "outputs": [],
   "source": [
    "# Married,BankCustomer,Ethnicity\n",
    "# BankCustomer, CreditScore"
   ]
  },
  {
   "cell_type": "markdown",
   "metadata": {},
   "source": [
    "# multicollinearity\n",
    "- variance inflation factor\n",
    "- correlation"
   ]
  },
  {
   "cell_type": "markdown",
   "metadata": {},
   "source": [
    "## variance inflation factor"
   ]
  },
  {
   "cell_type": "code",
   "execution_count": 25,
   "metadata": {},
   "outputs": [
    {
     "name": "stderr",
     "output_type": "stream",
     "text": [
      "C:\\Users\\sreeh\\AppData\\Roaming\\Python\\Python37\\site-packages\\statsmodels\\stats\\outliers_influence.py:193: RuntimeWarning: divide by zero encountered in double_scalars\n",
      "  vif = 1. / (1. - r_squared_i)\n"
     ]
    },
    {
     "data": {
      "text/html": [
       "<div>\n",
       "<style scoped>\n",
       "    .dataframe tbody tr th:only-of-type {\n",
       "        vertical-align: middle;\n",
       "    }\n",
       "\n",
       "    .dataframe tbody tr th {\n",
       "        vertical-align: top;\n",
       "    }\n",
       "\n",
       "    .dataframe thead th {\n",
       "        text-align: right;\n",
       "    }\n",
       "</style>\n",
       "<table border=\"1\" class=\"dataframe\">\n",
       "  <thead>\n",
       "    <tr style=\"text-align: right;\">\n",
       "      <th></th>\n",
       "      <th>VIF Factor</th>\n",
       "      <th>features</th>\n",
       "    </tr>\n",
       "  </thead>\n",
       "  <tbody>\n",
       "    <tr>\n",
       "      <th>0</th>\n",
       "      <td>3.409532</td>\n",
       "      <td>Gender_b</td>\n",
       "    </tr>\n",
       "    <tr>\n",
       "      <th>1</th>\n",
       "      <td>inf</td>\n",
       "      <td>Married_l</td>\n",
       "    </tr>\n",
       "    <tr>\n",
       "      <th>2</th>\n",
       "      <td>inf</td>\n",
       "      <td>Married_u</td>\n",
       "    </tr>\n",
       "    <tr>\n",
       "      <th>3</th>\n",
       "      <td>inf</td>\n",
       "      <td>Married_y</td>\n",
       "    </tr>\n",
       "    <tr>\n",
       "      <th>4</th>\n",
       "      <td>inf</td>\n",
       "      <td>BankCustomer_g</td>\n",
       "    </tr>\n",
       "    <tr>\n",
       "      <th>5</th>\n",
       "      <td>inf</td>\n",
       "      <td>BankCustomer_gg</td>\n",
       "    </tr>\n",
       "    <tr>\n",
       "      <th>6</th>\n",
       "      <td>inf</td>\n",
       "      <td>BankCustomer_p</td>\n",
       "    </tr>\n",
       "    <tr>\n",
       "      <th>7</th>\n",
       "      <td>3.336033</td>\n",
       "      <td>PriorDefault_t</td>\n",
       "    </tr>\n",
       "    <tr>\n",
       "      <th>8</th>\n",
       "      <td>3.048872</td>\n",
       "      <td>Employed_t</td>\n",
       "    </tr>\n",
       "    <tr>\n",
       "      <th>9</th>\n",
       "      <td>1.954817</td>\n",
       "      <td>DriversLicense_t</td>\n",
       "    </tr>\n",
       "    <tr>\n",
       "      <th>10</th>\n",
       "      <td>1.340788</td>\n",
       "      <td>Citizen_p</td>\n",
       "    </tr>\n",
       "    <tr>\n",
       "      <th>11</th>\n",
       "      <td>1.189863</td>\n",
       "      <td>Citizen_s</td>\n",
       "    </tr>\n",
       "    <tr>\n",
       "      <th>12</th>\n",
       "      <td>10.536442</td>\n",
       "      <td>Age</td>\n",
       "    </tr>\n",
       "    <tr>\n",
       "      <th>13</th>\n",
       "      <td>2.274770</td>\n",
       "      <td>Debt</td>\n",
       "    </tr>\n",
       "    <tr>\n",
       "      <th>14</th>\n",
       "      <td>9.553530</td>\n",
       "      <td>EducationLevel</td>\n",
       "    </tr>\n",
       "    <tr>\n",
       "      <th>15</th>\n",
       "      <td>18.624315</td>\n",
       "      <td>Ethnicity</td>\n",
       "    </tr>\n",
       "    <tr>\n",
       "      <th>16</th>\n",
       "      <td>2.391115</td>\n",
       "      <td>YearsEmployed</td>\n",
       "    </tr>\n",
       "    <tr>\n",
       "      <th>17</th>\n",
       "      <td>2.049517</td>\n",
       "      <td>CreditScore</td>\n",
       "    </tr>\n",
       "    <tr>\n",
       "      <th>18</th>\n",
       "      <td>2.284444</td>\n",
       "      <td>Income</td>\n",
       "    </tr>\n",
       "  </tbody>\n",
       "</table>\n",
       "</div>"
      ],
      "text/plain": [
       "    VIF Factor          features\n",
       "0     3.409532          Gender_b\n",
       "1          inf         Married_l\n",
       "2          inf         Married_u\n",
       "3          inf         Married_y\n",
       "4          inf    BankCustomer_g\n",
       "5          inf   BankCustomer_gg\n",
       "6          inf    BankCustomer_p\n",
       "7     3.336033    PriorDefault_t\n",
       "8     3.048872        Employed_t\n",
       "9     1.954817  DriversLicense_t\n",
       "10    1.340788         Citizen_p\n",
       "11    1.189863         Citizen_s\n",
       "12   10.536442               Age\n",
       "13    2.274770              Debt\n",
       "14    9.553530    EducationLevel\n",
       "15   18.624315         Ethnicity\n",
       "16    2.391115     YearsEmployed\n",
       "17    2.049517       CreditScore\n",
       "18    2.284444            Income"
      ]
     },
     "execution_count": 25,
     "metadata": {},
     "output_type": "execute_result"
    }
   ],
   "source": [
    "from statsmodels.stats.outliers_influence import variance_inflation_factor\n",
    "vif = pd.DataFrame()\n",
    "vif[\"VIF Factor\"] = [variance_inflation_factor(X.values, i) for i in range(X.shape[1])]\n",
    "vif[\"features\"] = X.columns\n",
    "#let's check the values\n",
    "vif"
   ]
  },
  {
   "cell_type": "markdown",
   "metadata": {},
   "source": [
    " Married,BankCustomer,Ethnicity has >5.0 Vif"
   ]
  },
  {
   "cell_type": "markdown",
   "metadata": {},
   "source": [
    "# Correlation"
   ]
  },
  {
   "cell_type": "code",
   "execution_count": 26,
   "metadata": {},
   "outputs": [
    {
     "data": {
      "text/plain": [
       "<matplotlib.axes._subplots.AxesSubplot at 0x1f7dbdd2948>"
      ]
     },
     "execution_count": 26,
     "metadata": {},
     "output_type": "execute_result"
    },
    {
     "data": {
      "image/png": "[encoded data removed]",
      "text/plain": [
       "<Figure size 1440x1440 with 2 Axes>"
      ]
     },
     "metadata": {
      "needs_background": "light"
     },
     "output_type": "display_data"
    }
   ],
   "source": [
    "import seaborn as sns\n",
    "corr=df.iloc[:,:-1].corr()\n",
    "top_features=corr.index\n",
    "plt.figure(figsize=(20,20))\n",
    "sns.heatmap(df[top_features].corr(),annot=True)"
   ]
  },
  {
   "cell_type": "code",
   "execution_count": 27,
   "metadata": {},
   "outputs": [],
   "source": [
    "threshold=0.5"
   ]
  },
  {
   "cell_type": "code",
   "execution_count": 28,
   "metadata": {},
   "outputs": [],
   "source": [
    "# find and remove correlated features\n",
    "# def correlation(dataset, threshold):\n",
    "#     col_corr = set()# Set of all the names of correlated columns\n",
    "#     tmp = []\n",
    "#     corr_matrix = X.corr()\n",
    "#     for i in range(len(corr_matrix.columns)):\n",
    "#         for j in range(len(corr_matrix.columns)):\n",
    "#             tmp.append((i,j))\n",
    "#             if (threshold < abs(corr_matrix.iloc[i, j]) < 1.0) == True:\n",
    "#             # we are interested in absolute coeff value\n",
    "#                 colname = corr_matrix.columns[i]  # getting the name of column\n",
    "#                 col_corr.add(colname)\n",
    "#     return col_corr"
   ]
  },
  {
   "cell_type": "code",
   "execution_count": 29,
   "metadata": {},
   "outputs": [],
   "source": [
    "def correlation(dataset, threshold):\n",
    "    col_corr = set()  # Set of all the names of correlated columns\n",
    "    corr_matrix = dataset.corr()\n",
    "    for i in range(len(corr_matrix.columns)):\n",
    "        for j in range(i):\n",
    "            if abs(corr_matrix.iloc[i, j]) > threshold: # we are interested in absolute coeff value\n",
    "                colname = corr_matrix.columns[i]  # getting the name of column\n",
    "                col_corr.add(colname)\n",
    "    return col_corr"
   ]
  },
  {
   "cell_type": "code",
   "execution_count": 30,
   "metadata": {},
   "outputs": [
    {
     "data": {
      "text/plain": [
       "{'BankCustomer_g',\n",
       " 'BankCustomer_gg',\n",
       " 'BankCustomer_p',\n",
       " 'CreditScore',\n",
       " 'Married_y'}"
      ]
     },
     "execution_count": 30,
     "metadata": {},
     "output_type": "execute_result"
    }
   ],
   "source": [
    "correlation(X,threshold)"
   ]
  },
  {
   "cell_type": "code",
   "execution_count": 31,
   "metadata": {},
   "outputs": [],
   "source": [
    "# Married,BankCustomer,Ethnicity\n",
    "# BankCustomer, CreditScore"
   ]
  },
  {
   "cell_type": "markdown",
   "metadata": {},
   "source": [
    "# Information Gain\n"
   ]
  },
  {
   "cell_type": "code",
   "execution_count": 32,
   "metadata": {},
   "outputs": [],
   "source": [
    "from sklearn.feature_selection import mutual_info_classif"
   ]
  },
  {
   "cell_type": "code",
   "execution_count": 33,
   "metadata": {},
   "outputs": [],
   "source": [
    "mutual_info=mutual_info_classif(X,y)"
   ]
  },
  {
   "cell_type": "code",
   "execution_count": 34,
   "metadata": {},
   "outputs": [
    {
     "data": {
      "text/plain": [
       "PriorDefault_t      0.301284\n",
       "CreditScore         0.155013\n",
       "Employed_t          0.112120\n",
       "Income              0.091210\n",
       "YearsEmployed       0.072809\n",
       "EducationLevel      0.066317\n",
       "Ethnicity           0.022102\n",
       "Married_u           0.018038\n",
       "Gender_b            0.016258\n",
       "Married_y           0.016222\n",
       "DriversLicense_t    0.015427\n",
       "Citizen_s           0.013969\n",
       "BankCustomer_p      0.009795\n",
       "Age                 0.008643\n",
       "Debt                0.005689\n",
       "Citizen_p           0.000000\n",
       "BankCustomer_gg     0.000000\n",
       "BankCustomer_g      0.000000\n",
       "Married_l           0.000000\n",
       "dtype: float64"
      ]
     },
     "execution_count": 34,
     "metadata": {},
     "output_type": "execute_result"
    }
   ],
   "source": [
    "mutual_data=pd.Series(mutual_info,index=X.columns)\n",
    "mutual_data.sort_values(ascending=False)"
   ]
  },
  {
   "cell_type": "code",
   "execution_count": 35,
   "metadata": {},
   "outputs": [],
   "source": [
    "# header = ['PriorDefault_t', 'YearsEmployed','CreditScore','Income', 'EducationLevel','YearsEmployed','Approved']\n",
    "# # Prior default,\n",
    "# # Years employed,\n",
    "# # Credit score, and\n",
    "# # Income level.\n",
    "# #Age\tDebt\tEducationLevel\tYearsEmployed\tPriorDefault\tEmployed\tCreditScore\t\tCitizen\tZipCode\tIncome"
   ]
  },
  {
   "cell_type": "code",
   "execution_count": 36,
   "metadata": {},
   "outputs": [
    {
     "data": {
      "text/html": [
       "<div>\n",
       "<style scoped>\n",
       "    .dataframe tbody tr th:only-of-type {\n",
       "        vertical-align: middle;\n",
       "    }\n",
       "\n",
       "    .dataframe tbody tr th {\n",
       "        vertical-align: top;\n",
       "    }\n",
       "\n",
       "    .dataframe thead th {\n",
       "        text-align: right;\n",
       "    }\n",
       "</style>\n",
       "<table border=\"1\" class=\"dataframe\">\n",
       "  <thead>\n",
       "    <tr style=\"text-align: right;\">\n",
       "      <th></th>\n",
       "      <th>PriorDefault_t</th>\n",
       "      <th>YearsEmployed</th>\n",
       "      <th>CreditScore</th>\n",
       "      <th>Income</th>\n",
       "      <th>Approved</th>\n",
       "    </tr>\n",
       "  </thead>\n",
       "  <tbody>\n",
       "    <tr>\n",
       "      <th>0</th>\n",
       "      <td>1</td>\n",
       "      <td>3.04</td>\n",
       "      <td>6</td>\n",
       "      <td>560.000000</td>\n",
       "      <td>1</td>\n",
       "    </tr>\n",
       "    <tr>\n",
       "      <th>1</th>\n",
       "      <td>1</td>\n",
       "      <td>1.50</td>\n",
       "      <td>0</td>\n",
       "      <td>824.000000</td>\n",
       "      <td>1</td>\n",
       "    </tr>\n",
       "    <tr>\n",
       "      <th>2</th>\n",
       "      <td>1</td>\n",
       "      <td>3.75</td>\n",
       "      <td>5</td>\n",
       "      <td>3.000000</td>\n",
       "      <td>1</td>\n",
       "    </tr>\n",
       "    <tr>\n",
       "      <th>3</th>\n",
       "      <td>1</td>\n",
       "      <td>1.71</td>\n",
       "      <td>0</td>\n",
       "      <td>322.159652</td>\n",
       "      <td>1</td>\n",
       "    </tr>\n",
       "    <tr>\n",
       "      <th>4</th>\n",
       "      <td>1</td>\n",
       "      <td>2.50</td>\n",
       "      <td>0</td>\n",
       "      <td>322.159652</td>\n",
       "      <td>1</td>\n",
       "    </tr>\n",
       "  </tbody>\n",
       "</table>\n",
       "</div>"
      ],
      "text/plain": [
       "   PriorDefault_t  YearsEmployed  CreditScore      Income  Approved\n",
       "0               1           3.04            6  560.000000         1\n",
       "1               1           1.50            0  824.000000         1\n",
       "2               1           3.75            5    3.000000         1\n",
       "3               1           1.71            0  322.159652         1\n",
       "4               1           2.50            0  322.159652         1"
      ]
     },
     "execution_count": 36,
     "metadata": {},
     "output_type": "execute_result"
    }
   ],
   "source": [
    "df = df[['PriorDefault_t', 'YearsEmployed','CreditScore','Income','Approved']]\n",
    "df.head()"
   ]
  },
  {
   "cell_type": "code",
   "execution_count": 38,
   "metadata": {},
   "outputs": [],
   "source": [
    "df.to_csv('../actual project/Feature_Selection.csv', index = False)"
   ]
  },
  {
   "cell_type": "code",
   "execution_count": null,
   "metadata": {},
   "outputs": [],
   "source": [
    "# ## best\n",
    "# PriorDefault_t    0.357864\n",
    "# Employed_t        0.100237\n",
    "# Income            0.081928\n",
    "# EducationLevel    0.080561\n",
    "# YearsEmployed     0.079554\n",
    "# Age               0.067869\n",
    "\n",
    "# ----------------\n",
    "# ## ~\n",
    "# PriorDefault_t      0.285012\n",
    "# CreditScore         0.197808\n",
    "# Employed_t          0.119964\n",
    "# Income              0.096394\n",
    "# EducationLevel      0.066453\n",
    "# YearsEmployed       0.059585"
   ]
  }
 ],
 "metadata": {
  "kernelspec": {
   "display_name": "Python 3",
   "language": "python",
   "name": "python3"
  },
  "language_info": {
   "codemirror_mode": {
    "name": "ipython",
    "version": 3
   },
   "file_extension": ".py",
   "mimetype": "text/x-python",
   "name": "python",
   "nbconvert_exporter": "python",
   "pygments_lexer": "ipython3",
   "version": "3.7.6"
  }
 },
 "nbformat": 4,
 "nbformat_minor": 4
}
